{
  "nbformat": 4,
  "nbformat_minor": 0,
  "metadata": {
    "colab": {
      "provenance": [],
      "toc_visible": true
    },
    "kernelspec": {
      "name": "python3",
      "display_name": "Python 3"
    },
    "language_info": {
      "name": "python"
    }
  },
  "cells": [
    {
      "cell_type": "code",
      "execution_count": 1,
      "metadata": {
        "colab": {
          "base_uri": "https://localhost:8080/"
        },
        "id": "j7SVIr6V0Mk1",
        "outputId": "131b2d55-eda4-477d-d994-777386ed90d5"
      },
      "outputs": [
        {
          "output_type": "stream",
          "name": "stdout",
          "text": [
            "Olá Mundo\n"
          ]
        }
      ],
      "source": [
        "   print('Olá Mundo');"
      ]
    },
    {
      "cell_type": "code",
      "source": [],
      "metadata": {
        "id": "G1RJBnmD1Qjh"
      },
      "execution_count": 1,
      "outputs": []
    },
    {
      "cell_type": "markdown",
      "source": [],
      "metadata": {
        "id": "8wubFDF81RA7"
      }
    },
    {
      "cell_type": "code",
      "source": [
        "print(10)"
      ],
      "metadata": {
        "colab": {
          "base_uri": "https://localhost:8080/"
        },
        "id": "eux6oR-P0nhS",
        "outputId": "f40fc26e-b7f6-483a-cbec-dc6a19770180"
      },
      "execution_count": 2,
      "outputs": [
        {
          "output_type": "stream",
          "name": "stdout",
          "text": [
            "10\n"
          ]
        }
      ]
    },
    {
      "cell_type": "code",
      "source": [
        "print('João')\n",
        "print('Eduardo')\n",
        "print(28, 'anos de idade')"
      ],
      "metadata": {
        "colab": {
          "base_uri": "https://localhost:8080/"
        },
        "id": "nBSQchGQ0r2m",
        "outputId": "31c6fbb6-9fe5-4ca1-dfa4-ab38e1547c72"
      },
      "execution_count": 3,
      "outputs": [
        {
          "output_type": "stream",
          "name": "stdout",
          "text": [
            "João\n",
            "Eduardo\n",
            "28 anos de idade\n"
          ]
        }
      ]
    },
    {
      "cell_type": "code",
      "source": [
        "print('Escola de dados da Alura')"
      ],
      "metadata": {
        "colab": {
          "base_uri": "https://localhost:8080/"
        },
        "id": "4WxzS1zi1LH3",
        "outputId": "4526c351-8759-444c-d21f-c23618674077"
      },
      "execution_count": 4,
      "outputs": [
        {
          "output_type": "stream",
          "name": "stdout",
          "text": [
            "Escola de dados da Alura\n"
          ]
        }
      ]
    },
    {
      "cell_type": "code",
      "source": [],
      "metadata": {
        "id": "gmiWu82x1UOb"
      },
      "execution_count": 4,
      "outputs": []
    },
    {
      "cell_type": "code",
      "source": [
        "print('J')\n",
        "print('O')\n",
        "print('Ã')\n",
        "print('O')\n"
      ],
      "metadata": {
        "colab": {
          "base_uri": "https://localhost:8080/"
        },
        "id": "AMqn9fOY1tz1",
        "outputId": "b64be11c-984e-4351-b35d-e359d0fd1003"
      },
      "execution_count": 5,
      "outputs": [
        {
          "output_type": "stream",
          "name": "stdout",
          "text": [
            "J\n",
            "O\n",
            "Ã\n",
            "O\n"
          ]
        }
      ]
    },
    {
      "cell_type": "code",
      "source": [
        "print(2,'Abril',2025)"
      ],
      "metadata": {
        "colab": {
          "base_uri": "https://localhost:8080/"
        },
        "id": "oupLKrXL2BMQ",
        "outputId": "922c8c17-4c1a-42f8-a032-b4ebb1d72c0d"
      },
      "execution_count": 6,
      "outputs": [
        {
          "output_type": "stream",
          "name": "stdout",
          "text": [
            "2 Abril 2025\n"
          ]
        }
      ]
    },
    {
      "cell_type": "code",
      "source": [
        "print('Ano atual:', 2025)"
      ],
      "metadata": {
        "colab": {
          "base_uri": "https://localhost:8080/"
        },
        "id": "d70g6coj2gba",
        "outputId": "46fdb9af-b922-4e8e-f5d5-34011cd27548"
      },
      "execution_count": 7,
      "outputs": [
        {
          "output_type": "stream",
          "name": "stdout",
          "text": [
            "Ano atual: 2025\n"
          ]
        }
      ]
    },
    {
      "cell_type": "code",
      "source": [
        "aluno = 5\n",
        "print('Idade = ', aluno)"
      ],
      "metadata": {
        "colab": {
          "base_uri": "https://localhost:8080/"
        },
        "id": "d6Ow_MJ74d6c",
        "outputId": "835cb7ad-b4a2-4fe8-831b-a45099087952"
      },
      "execution_count": 8,
      "outputs": [
        {
          "output_type": "stream",
          "name": "stdout",
          "text": [
            "Idade =  5\n"
          ]
        }
      ]
    },
    {
      "cell_type": "code",
      "source": [
        "nome = 'João'\n",
        "print(nome)"
      ],
      "metadata": {
        "colab": {
          "base_uri": "https://localhost:8080/"
        },
        "id": "VY0Lpn455FZ_",
        "outputId": "d616f94d-b6e3-49c3-91d0-80d836e385a1"
      },
      "execution_count": 9,
      "outputs": [
        {
          "output_type": "stream",
          "name": "stdout",
          "text": [
            "João\n"
          ]
        }
      ]
    },
    {
      "cell_type": "code",
      "source": [],
      "metadata": {
        "id": "oSXKeXvi_ETX"
      },
      "execution_count": 9,
      "outputs": []
    },
    {
      "cell_type": "markdown",
      "source": [
        "| CLASSE\t| DESCRIÇÃO|\tEXEMPLO |\n",
        "|--- |--- |--- |\n",
        "| int\t| Armazena números inteiros, | 3, 100 ou -5|\n",
        "|float |\t Armazena números com ponto flutuante, ou seja, números que possuem uma parte fracionária ou reais\t| 3.14, 100.0 ou -0.5|\n",
        "| str | Armazena strings, ou seja, um texto ou sequências de caracteres. As strings são geralmente usadas para armazenar texto e delimitadas por aspas simples ou duplas\t| \"Olá!\", 'Alura' ou \"1234\"|\n",
        "|bool\t| Armazena valores lógicos verdadeiro ou falso\t|True e False|\n",
        "\n",
        "|\n"
      ],
      "metadata": {
        "id": "IXDv9C46-EXr"
      }
    },
    {
      "cell_type": "code",
      "source": [
        "i = 5\n",
        "type(i)"
      ],
      "metadata": {
        "colab": {
          "base_uri": "https://localhost:8080/"
        },
        "id": "AWX5lEGu-HIM",
        "outputId": "3c876947-d3bd-45cb-cd50-f11eeb2e1224"
      },
      "execution_count": 10,
      "outputs": [
        {
          "output_type": "execute_result",
          "data": {
            "text/plain": [
              "int"
            ]
          },
          "metadata": {},
          "execution_count": 10
        }
      ]
    },
    {
      "cell_type": "code",
      "source": [
        "f = 9.8\n",
        "type(f)"
      ],
      "metadata": {
        "colab": {
          "base_uri": "https://localhost:8080/"
        },
        "id": "F_-HivxwAPBk",
        "outputId": "bbc93ea3-95fb-4864-9c01-fdf0a52ad622"
      },
      "execution_count": 11,
      "outputs": [
        {
          "output_type": "execute_result",
          "data": {
            "text/plain": [
              "float"
            ]
          },
          "metadata": {},
          "execution_count": 11
        }
      ]
    },
    {
      "cell_type": "code",
      "source": [
        "s = 'João'\n",
        "type(s)"
      ],
      "metadata": {
        "colab": {
          "base_uri": "https://localhost:8080/"
        },
        "id": "8vapdOZtASe4",
        "outputId": "e0c07997-b3d1-4359-9fca-0bd9e0babd7e"
      },
      "execution_count": 12,
      "outputs": [
        {
          "output_type": "execute_result",
          "data": {
            "text/plain": [
              "str"
            ]
          },
          "metadata": {},
          "execution_count": 12
        }
      ]
    },
    {
      "cell_type": "code",
      "source": [
        "b = True\n",
        "type(b)"
      ],
      "metadata": {
        "colab": {
          "base_uri": "https://localhost:8080/"
        },
        "id": "xm44PqPhAiOA",
        "outputId": "e68bb103-d934-4472-b475-b34cc38679dc"
      },
      "execution_count": 13,
      "outputs": [
        {
          "output_type": "execute_result",
          "data": {
            "text/plain": [
              "bool"
            ]
          },
          "metadata": {},
          "execution_count": 13
        }
      ]
    },
    {
      "cell_type": "markdown",
      "source": [
        "Exemplo"
      ],
      "metadata": {
        "id": "bFtgd3sEAzS_"
      }
    },
    {
      "cell_type": "code",
      "source": [
        "nome_aluno = 'João Eduardo'\n",
        "idade_aluno = 15\n",
        "media_aluno = 8.5\n",
        "situacao_aprovado = True\n",
        "print('Nome:', nome_aluno, ', Idade:', idade_aluno, ', Media:', media_aluno, ', Situação:', situacao_aprovado)"
      ],
      "metadata": {
        "colab": {
          "base_uri": "https://localhost:8080/"
        },
        "id": "kr3cqXFcA2Hg",
        "outputId": "cd1b7ac5-bf6b-4a47-ea05-cf9c3a414a42"
      },
      "execution_count": 14,
      "outputs": [
        {
          "output_type": "stream",
          "name": "stdout",
          "text": [
            "Nome: João Eduardo , Idade: 15 , Media: 8.5 , Situação: True\n"
          ]
        }
      ]
    },
    {
      "cell_type": "markdown",
      "source": [],
      "metadata": {
        "id": "CQgFqKNrFXdv"
      }
    },
    {
      "cell_type": "markdown",
      "source": [
        "Quando falamos sobre variáveis numéricas em Python, podemos limitar nossa análise aos tipos inteiro e float. Podemos manipulá-las para realizar cálculos aritméticos. A partir disso, temos uma situação – problema a resolver na nossa instituição de ensino.\n",
        "\n",
        "Recebemos uma tabela com informações de empregos quanto ao cargo, quantidade de pessoas empregadas e o salário correspondente.\n",
        "\n",
        "|Cargo|\tQuantidade|\tSalário|\n",
        "|---|---|---|\n",
        "|Segurança|\t5|\t3000|\n",
        "|Docente|\t16|\t6000|\n",
        "|Diretoria|\t1\t|12500|\n",
        "\n",
        "Cinco pessoas trabalham como seguranças e recebem um salário de 3 mil reais. Dezesseis pessoas trabalham como docentes e recebem um salário de 6 mil reais. Por fim, temos uma pessoa que trabalha na diretoria e seu salário é de 12 mil e 500 reais.\n",
        "\n",
        "Precisamos trabalhar com esses dados fornecendo:\n",
        "\n",
        "- A quantidade total de empregados;\n",
        "- A diferença entre o salário mais baixo e mais alto;\n",
        "- A média ponderada da faixa salarial da escola."
      ],
      "metadata": {
        "id": "tLCBblFlFj49"
      }
    },
    {
      "cell_type": "code",
      "source": [
        "q_seguranca = 5\n",
        "s_seguranca = 3000\n",
        "\n",
        "q_decente = 16\n",
        "s_docente = 6000\n",
        "\n",
        "q_diretoria = 1\n",
        "s_diretoria = 12500"
      ],
      "metadata": {
        "id": "sRDHssP6F9Gq"
      },
      "execution_count": 15,
      "outputs": []
    },
    {
      "cell_type": "markdown",
      "source": [
        "A quantidade total de empregados"
      ],
      "metadata": {
        "id": "UeRvq2paG7m3"
      }
    },
    {
      "cell_type": "code",
      "source": [
        "total_empregado = q_seguranca + q_decente + q_diretoria\n",
        "total_empregado"
      ],
      "metadata": {
        "colab": {
          "base_uri": "https://localhost:8080/"
        },
        "id": "gm65mSQAG8xR",
        "outputId": "c1e3e967-f2c7-405a-f94c-be56014411aa"
      },
      "execution_count": 16,
      "outputs": [
        {
          "output_type": "execute_result",
          "data": {
            "text/plain": [
              "22"
            ]
          },
          "metadata": {},
          "execution_count": 16
        }
      ]
    },
    {
      "cell_type": "markdown",
      "source": [
        "A diferença entre o salário mais baixo e mais alto\n",
        "\n"
      ],
      "metadata": {
        "id": "SiaNtOWCJC77"
      }
    },
    {
      "cell_type": "code",
      "source": [
        "diferenca_salarial = s_diretoria - s_seguranca\n",
        "diferenca_salarial"
      ],
      "metadata": {
        "colab": {
          "base_uri": "https://localhost:8080/"
        },
        "id": "H3kyLD_mINFo",
        "outputId": "560b8cf8-f64a-4feb-a251-6caffd3192a2"
      },
      "execution_count": 17,
      "outputs": [
        {
          "output_type": "execute_result",
          "data": {
            "text/plain": [
              "9500"
            ]
          },
          "metadata": {},
          "execution_count": 17
        }
      ]
    },
    {
      "cell_type": "markdown",
      "source": [
        "A média ponderada da faixa salarial da escola"
      ],
      "metadata": {
        "id": "GynplQwYJHGV"
      }
    },
    {
      "cell_type": "code",
      "source": [
        "media_ponderada = (q_seguranca * s_seguranca + q_decente * s_docente + q_diretoria * s_diretoria) / (total_empregado)\n",
        "media_ponderada"
      ],
      "metadata": {
        "colab": {
          "base_uri": "https://localhost:8080/"
        },
        "id": "HQDxX7BzJA0l",
        "outputId": "49c1d5f1-a189-47a2-f39b-1d3d4e9f7cf1"
      },
      "execution_count": 18,
      "outputs": [
        {
          "output_type": "execute_result",
          "data": {
            "text/plain": [
              "5613.636363636364"
            ]
          },
          "metadata": {},
          "execution_count": 18
        }
      ]
    },
    {
      "cell_type": "markdown",
      "source": [
        "# Strings\n",
        "\n",
        "No notebook, seção Strings, acessaremos a primeira célula, onde criaremos duas strings: a primeira, com aspas simples e a segunda com aspas duplas. Isso porque já sabemos que strings podem ser criadas tanto com aspas simples, quanto com aspas duplas."
      ],
      "metadata": {
        "id": "6xjVSdmnMM9S"
      }
    },
    {
      "cell_type": "code",
      "source": [
        "s1 = 'Alura1'\n",
        "s2 = \"Alura21\"\n",
        "print(type(s1), type(s2))"
      ],
      "metadata": {
        "colab": {
          "base_uri": "https://localhost:8080/"
        },
        "id": "L94Xqy04Mdya",
        "outputId": "12fd5a89-ef7c-47d4-e8dd-06f8a84a0b57"
      },
      "execution_count": 19,
      "outputs": [
        {
          "output_type": "stream",
          "name": "stdout",
          "text": [
            "<class 'str'> <class 'str'>\n"
          ]
        }
      ]
    },
    {
      "cell_type": "markdown",
      "source": [
        "Situação: Recebemos uma variável com o nome de uma professora da escola para inserirmos no cadastro. No entanto, precisamos tratar esse texto antes de inserirmos no sistema."
      ],
      "metadata": {
        "id": "yDUoteBGNBFw"
      }
    },
    {
      "cell_type": "code",
      "source": [
        "nome_professora =    '      Geovana Alessandra dias   '"
      ],
      "metadata": {
        "id": "L9CsPjDzNDJ0"
      },
      "execution_count": 20,
      "outputs": []
    },
    {
      "cell_type": "markdown",
      "source": [
        "O primeiro deles é o str.upper(), método que converte a string e retorna um texto com todos os caracteres em letras maiúsculas. Colocamos o nome da nossa variável, texto, ponto, e escreveremos o método upper()."
      ],
      "metadata": {
        "id": "RjQRNs0MPNym"
      }
    },
    {
      "cell_type": "code",
      "source": [
        "str.upper(nome_professora)"
      ],
      "metadata": {
        "colab": {
          "base_uri": "https://localhost:8080/",
          "height": 36
        },
        "id": "ZJ7OKupDOYmG",
        "outputId": "f5317d2c-f87f-429f-dce4-c45ca73f9627"
      },
      "execution_count": 21,
      "outputs": [
        {
          "output_type": "execute_result",
          "data": {
            "text/plain": [
              "'      GEOVANA ALESSANDRA DIAS   '"
            ],
            "application/vnd.google.colaboratory.intrinsic+json": {
              "type": "string"
            }
          },
          "metadata": {},
          "execution_count": 21
        }
      ]
    },
    {
      "cell_type": "markdown",
      "source": [
        "Ao rodarmos o código, receberemos o mesmo texto, escrito em letras maiúsculas. Se existe um método que converte todas as letras em maiúsculas, também existe um que retorne todas as letras em minúsculas, esse método é o str.lower(). O procedimento é o mesmo: string, seguida de ponto e método lower()."
      ],
      "metadata": {
        "id": "wEf9DWoHPO_c"
      }
    },
    {
      "cell_type": "code",
      "source": [
        "str.lower(nome_professora)"
      ],
      "metadata": {
        "colab": {
          "base_uri": "https://localhost:8080/",
          "height": 36
        },
        "id": "ieBwJeK4O6Tk",
        "outputId": "afbbda65-b02b-47d2-d79b-be326c93de0b"
      },
      "execution_count": 22,
      "outputs": [
        {
          "output_type": "execute_result",
          "data": {
            "text/plain": [
              "'      geovana alessandra dias   '"
            ],
            "application/vnd.google.colaboratory.intrinsic+json": {
              "type": "string"
            }
          },
          "metadata": {},
          "execution_count": 22
        }
      ]
    },
    {
      "cell_type": "markdown",
      "source": [
        "O retorno é o texto todo em letras minúsculas. Precisamos remover os espaços em branco antes e depois do texto. Para isso, usaremos o método str.strip()."
      ],
      "metadata": {
        "id": "Z5SdeVX1P1wW"
      }
    },
    {
      "cell_type": "code",
      "source": [
        "str.strip(nome_professora)"
      ],
      "metadata": {
        "colab": {
          "base_uri": "https://localhost:8080/",
          "height": 36
        },
        "id": "_-FZkcmfQDOj",
        "outputId": "ec48f959-807e-4343-e8ef-03c15907cd4a"
      },
      "execution_count": 23,
      "outputs": [
        {
          "output_type": "execute_result",
          "data": {
            "text/plain": [
              "'Geovana Alessandra dias'"
            ],
            "application/vnd.google.colaboratory.intrinsic+json": {
              "type": "string"
            }
          },
          "metadata": {},
          "execution_count": 23
        }
      ]
    },
    {
      "cell_type": "markdown",
      "source": [
        "Então, escreveremos texto.replace(). Nos parênteses, começaremos passando o elemento antigo, isto é, que será substituído. Neste caso, é o \"y\" de \"Sanyos\". Para isso, abriremos aspas simples ou duplas e colocaremos 'y'.\n",
        "\n",
        "Fora das aspas, adicionaremos vírgula e passaremos o segundo parâmetro: o elemento novo que substituirá o antigo. Então, entre aspas, escreveremos 't'. Desta maneira, o que era \"Sanyos\" será \"Santos\"."
      ],
      "metadata": {
        "id": "gBb0TFbfQPTM"
      }
    },
    {
      "cell_type": "code",
      "source": [
        "nome_professora.replace('y', 't')"
      ],
      "metadata": {
        "colab": {
          "base_uri": "https://localhost:8080/",
          "height": 36
        },
        "id": "5hugv7daQVpO",
        "outputId": "51446018-4802-46b3-e4a1-96a191dd2bd1"
      },
      "execution_count": 24,
      "outputs": [
        {
          "output_type": "execute_result",
          "data": {
            "text/plain": [
              "'      Geovana Alessandra dias   '"
            ],
            "application/vnd.google.colaboratory.intrinsic+json": {
              "type": "string"
            }
          },
          "metadata": {},
          "execution_count": 24
        }
      ]
    },
    {
      "cell_type": "code",
      "source": [
        "nome_professora = nome_professora.strip().replace('y', 't').upper()\n",
        "nome_professora\n"
      ],
      "metadata": {
        "colab": {
          "base_uri": "https://localhost:8080/",
          "height": 36
        },
        "id": "TBIkLL1NQ6sB",
        "outputId": "636d09f1-119b-4b55-9603-1c519f34748b"
      },
      "execution_count": 25,
      "outputs": [
        {
          "output_type": "execute_result",
          "data": {
            "text/plain": [
              "'GEOVANA ALESSANDRA DIAS'"
            ],
            "application/vnd.google.colaboratory.intrinsic+json": {
              "type": "string"
            }
          },
          "metadata": {},
          "execution_count": 25
        }
      ]
    },
    {
      "cell_type": "markdown",
      "source": [
        "# Coletar e manipular os dados"
      ],
      "metadata": {
        "id": "viuu28sXrEDt"
      }
    },
    {
      "cell_type": "code",
      "source": [
        "nome = input('Degite seu nome: ')"
      ],
      "metadata": {
        "id": "DDeztdLBrEuB"
      },
      "execution_count": null,
      "outputs": []
    },
    {
      "cell_type": "code",
      "source": [
        "ano_entrada = int(input('Escreva o ano de ingresso do(a) estudante: '))"
      ],
      "metadata": {
        "id": "ePnCnOl2sjXs"
      },
      "execution_count": null,
      "outputs": []
    },
    {
      "cell_type": "code",
      "source": [
        "type(ano_entrada)"
      ],
      "metadata": {
        "id": "SkPcgkaUs1Zs"
      },
      "execution_count": null,
      "outputs": []
    },
    {
      "cell_type": "code",
      "source": [],
      "metadata": {
        "id": "dqZM2E2OvZaU"
      },
      "execution_count": null,
      "outputs": []
    },
    {
      "cell_type": "code",
      "source": [
        "nota_entrada = float(input('Digite a nota do teste de ingresso: '))\n",
        "print(f'Ano de entrada {ano_entrada} - nota do teste do ingresso {nota_entrada}')"
      ],
      "metadata": {
        "id": "qF9NytlztYLJ"
      },
      "execution_count": null,
      "outputs": []
    },
    {
      "cell_type": "code",
      "source": [
        "type(ano_entrada)"
      ],
      "metadata": {
        "id": "zUdbClrUtiRN"
      },
      "execution_count": null,
      "outputs": []
    },
    {
      "cell_type": "markdown",
      "source": [
        "# Operador de formatação"
      ],
      "metadata": {
        "id": "SF26fQmgzNtO"
      }
    },
    {
      "cell_type": "markdown",
      "source": [
        "|Tipo de variável|\tPalavra-chave|\n",
        "|---|---|\n",
        "|string|\t%s|\n",
        "|inteiro|\t%d|\n",
        "|float|\t%f|\n",
        "|caractere|\t%c|"
      ],
      "metadata": {
        "id": "nI-2Rnb80bJE"
      }
    },
    {
      "cell_type": "code",
      "source": [
        "nome_A = \"João Eduardo\"\n",
        "idade_aluno = 15\n",
        "media_alumo = 8.45\n",
        "print('Nome do aluno é %s, ele tem %d anos e sua media é %.2f'%(nome_A, idade_aluno, media_alumo))"
      ],
      "metadata": {
        "id": "tF2aIcLh153e"
      },
      "execution_count": null,
      "outputs": []
    },
    {
      "cell_type": "code",
      "source": [
        "nome_B = 'João Eduardo'\n",
        "idade_alunoB = 15\n",
        "media_alunoB = 8.75\n",
        "print('Nome do aluno é {}, ele tem {} anos e sua media é {}.'.format(nome_B, idade_alunoB, media_alunoB))"
      ],
      "metadata": {
        "id": "vKLRr5t70g5G"
      },
      "execution_count": null,
      "outputs": []
    },
    {
      "cell_type": "markdown",
      "source": [
        "# Caracteres especiais"
      ],
      "metadata": {
        "id": "dETeTjXI2pIq"
      }
    },
    {
      "cell_type": "markdown",
      "source": [
        "\\n é o caractere de nova linha e é usado para pular uma linha no texto (função do Enter). Exemplo:\n",
        "\n",
        "\\t é o caractere de tabulação usado para adicionar um espaço de tabulação no texto. Exemplo:\n",
        "\n",
        "\\\\ é usado para imprimir uma única barra invertida. Caso não seja usada a dupla barra invertida, o código poderá resultar em erro ou em um resultado inesperado, pois o Python considera a \\ um chamado para um caractere especial. Usamos esta sintaxe para garantir que não ocorram erros. Exemplo:\n",
        "\n",
        "\\\" é usado para imprimir aspas duplas quando estamos trabalhando com uma string criada a partir de aspas duplas \". Porém, isso não é necessário caso seja uma string criada por aspas simples '. Como exemplo, temos:\n",
        "\n",
        "\\' é usado para imprimir aspas simples quando estamos trabalhando com uma string criada a partir de aspas simples '. Caso seja uma string criada por aspas duplas \", isso não é necessário. Exemplo:"
      ],
      "metadata": {
        "id": "MjS127972rBY"
      }
    },
    {
      "cell_type": "code",
      "source": [
        "print(\"Estudar é um esforço constante,\\nÉ como cultivar uma planta,\\nPrecisamos de dedicação e paciência,\\nPara ver o fruto amadurecer.\")\n",
        "\n",
        "print('Quantidade\\tQualidade\\n5 amostras\\tAlta\\n3 amostras\\tBaixa')\n",
        "\n",
        "print(\"Caminho do arquivo: C:\\\\arquivos\\\\documento.csv\")\n",
        "\n",
        "print(\"Ouvi uma vez \\\"Os frutos do conhecimento são os mais doces e duradouros de todos.\\\"\")\n",
        "\n",
        "print('Minha professora uma vez disse \\'Estudar é a chave do sucesso.\\' ')"
      ],
      "metadata": {
        "id": "jILPjJvj2yec"
      },
      "execution_count": null,
      "outputs": []
    },
    {
      "cell_type": "markdown",
      "source": [
        "# Desafio: hora da prática - Coleta e amostragem de dados\n",
        "\n",
        "\n"
      ],
      "metadata": {
        "id": "IzqhY89l3-Aw"
      }
    },
    {
      "cell_type": "code",
      "source": [
        "# 1 Crie um programa que solicite à pessoa usuária digitar seu nome, e imprima “Olá, [nome]!”.\n",
        "informe_seu_nome = input('Digite sua nome')\n",
        "print('Olá', informe_seu_nome)"
      ],
      "metadata": {
        "id": "BGaDzX1l4FaG"
      },
      "execution_count": null,
      "outputs": []
    },
    {
      "cell_type": "code",
      "source": [
        "# 2 Crie um programa que solicite à pessoa usuária digitar seu nome e idade, e imprima “Olá,\n",
        "\n",
        "informe_seu_nome2 = input('Digite seu nome')\n",
        "infrome_sua_idade = input('Digite sua idade')\n",
        "print('Olá {}, você tem {} anos.' .format(informe_seu_nome, infrome_sua_idade))"
      ],
      "metadata": {
        "id": "g8rry6Xh5O25"
      },
      "execution_count": null,
      "outputs": []
    },
    {
      "cell_type": "code",
      "source": [
        "# 3 Crie um programa que solicite à pessoa usuária digitar seu nome, idade e altura em metros, e imprima “Olá, [nome], você tem [idade] anos e mede [altura] metros!”.\n",
        "\n",
        "\n",
        "informe_seu_nome3 = input('Digite seu nome.')\n",
        "infrome_sua_idade2 = int(input('Digite sua idade.'))\n",
        "informe_sua_altura = float(input('Digite sua altura.'))\n",
        "print('“Olá, {}, você tem {} anos e mede {} metros!”.' .format(informe_seu_nome3, infrome_sua_idade2, informe_sua_altura))\n",
        "print('“Olá, %s, você tem %d, anos e mede %.2f metros!”.' %(informe_seu_nome3, infrome_sua_idade2, informe_sua_altura))"
      ],
      "metadata": {
        "id": "HXajXnvH6R4j"
      },
      "execution_count": null,
      "outputs": []
    },
    {
      "cell_type": "markdown",
      "source": [
        "# Desafio: hora da prática - Calculadora com operadores"
      ],
      "metadata": {
        "id": "xtRpf7Y39_HM"
      }
    },
    {
      "cell_type": "markdown",
      "source": [
        "# Nova seção"
      ],
      "metadata": {
        "id": "Lu6xBEiROv0w"
      }
    },
    {
      "cell_type": "code",
      "source": [
        "# 1 Crie um programa que solicite dois valores numéricos à pessoa usuária e imprima a soma dos dois valores.\n",
        "\n",
        "numero1 = input('Digite primeiro numero: ')\n",
        "numero2 = input('Digite segundo numero: ')\n",
        "print('A soma dos dois numeros é:', int(numero1) + int(numero2))"
      ],
      "metadata": {
        "id": "GcfffQCE-FLP"
      },
      "execution_count": null,
      "outputs": []
    },
    {
      "cell_type": "code",
      "source": [
        "# 2 Crie um programa que solicite três valores numéricos à pessoa usuária e imprima a soma dos três valores.\n",
        "\n",
        "numero3 = input('Digite primeiro numero: ')\n",
        "numero4 = input('Digite segundo numero: ')\n",
        "numero5 = input('Digite terceiro numero: ')\n",
        "print('A soma dos dois numeros é:', int(numero3) + int(numero4) + int(numero5))"
      ],
      "metadata": {
        "id": "5wY5Kqlb_kIM"
      },
      "execution_count": null,
      "outputs": []
    },
    {
      "cell_type": "code",
      "source": [
        "# 3 Crie um programa que solicite dois valores numéricos à pessoa usuária e imprima a subtração do primeiro pelo o segundo valor.\n",
        "numero6 = input('Digite primeiro numero: ')\n",
        "numero7 = input('Digite segundo numero: ')\n",
        "print('A subtração dos dois numero é: ', int(numero6) - int(numero7))"
      ],
      "metadata": {
        "id": "ibRmj24RAirL"
      },
      "execution_count": null,
      "outputs": []
    },
    {
      "cell_type": "code",
      "source": [
        "# 4 Crie um programa que solicite dois valores numéricos à pessoa usuária e imprima a multiplicação dos dois valores.\n",
        "numero8 = input('Digite primeiro numero: ')\n",
        "numero9 = input('Digite segundo numero: ')\n",
        "print('A multiplicação dos dois numero é: ', int(numero6) * int(numero7))"
      ],
      "metadata": {
        "id": "QnDD-4wxB41j"
      },
      "execution_count": null,
      "outputs": []
    },
    {
      "cell_type": "code",
      "source": [
        "# 6 Crie um programa que solicite dois valores numéricos, um numerador e um denominador, e realize a divisão entre os dois valores. Deixe claro que o valor do denominador não pode ser 0\n",
        "numero10 = input('Digite primeiro número, exceto 0: ')\n",
        "numero11 = input('Digite segundo número, exceto 0: ')\n",
        "print('Valor da divisão é: ', int(numero10) / int(numero11))"
      ],
      "metadata": {
        "id": "O2rrCBGlCsmJ"
      },
      "execution_count": null,
      "outputs": []
    },
    {
      "cell_type": "code",
      "source": [
        "# 6 Crie um programa que solicite dois valores numéricos, um operador e uma potência, e realize a exponenciação entre esses dois valores.\n",
        "\n",
        "numero12 = input('Digite número do operador')\n",
        "numero13 = input('Digite o número da potência')\n",
        "print('Valor da exponenciação entre os dois número é:', int(numero12) ** int(numero13))"
      ],
      "metadata": {
        "id": "8vv0CwURDVod"
      },
      "execution_count": null,
      "outputs": []
    },
    {
      "cell_type": "code",
      "source": [
        "# 7 Crie um programa que solicite dois valores numéricos, um numerador e um denominador e realize a divisão inteira entre os\n",
        "# dois valores. Deixe claro que o valor do denominador não pode ser 0.\n",
        "\n",
        "numero14 = input('Digite valor do numerador: ')\n",
        "numero15 = input('Digite valor do denominador, exceto 0')\n",
        "print('Resultado da divisão é: ', int(numero14) // int(numero15))"
      ],
      "metadata": {
        "id": "ZlN6wAy3E1xb"
      },
      "execution_count": null,
      "outputs": []
    },
    {
      "cell_type": "code",
      "source": [
        "# 8 Crie um programa que solicite dois valores numéricos, um numerador e um denominador, e retorne o resto da divisão entre os dois valores.\n",
        "#Deixe claro que o valor do denominador não pode ser 0\n",
        "\n",
        "numero16 = input('Digite o valor do numerador: ')\n",
        "numero17 = input('Difigte o valor do denominador, exceto 0: ')\n",
        "print('O resto da divisão é', int(numero16) % int(numero17))"
      ],
      "metadata": {
        "id": "lwx9XG4PGghd"
      },
      "execution_count": null,
      "outputs": []
    },
    {
      "cell_type": "code",
      "source": [
        "# 9 Crie um código que solicita 3 notas de um estudante e imprima a média das notas.\n",
        "numero18 = input('nota 1: ')\n",
        "numero19 = input('nota 2: ')\n",
        "numero20 = input('nota 3: ')\n",
        "print('Media é:', (int(numero18) + int(numero19) + int(numero20)) / 3 )"
      ],
      "metadata": {
        "id": "obi2zy0DHW5J"
      },
      "execution_count": null,
      "outputs": []
    },
    {
      "cell_type": "code",
      "source": [
        "# 10 Crie um código que calcule e imprima a média ponderada dos números 5, 12, 20 e 15 com pesos respectivamente iguais a 1, 2, 3 e 4.\n",
        "# Cálculo da média ponderada\n",
        "\n",
        "media=media_ponderada = (5 * 1 + 12 * 2 + 20 * 3 + 15 * 4) / (1+2+3+4)\n",
        "print(f'Media {media_ponderada}.')\n",
        "\n"
      ],
      "metadata": {
        "id": "cmHwnXW5IPsT"
      },
      "execution_count": null,
      "outputs": []
    },
    {
      "cell_type": "markdown",
      "source": [
        "# Desafio: hora da prática - Editando textos"
      ],
      "metadata": {
        "id": "WqpKs40WP62g"
      }
    },
    {
      "cell_type": "code",
      "source": [
        "# 1 Crie uma variável chamada “frase” e atribua a ela uma string de sua escolha. Em seguida, imprima a frase na tela.\n",
        "string = 'frase'\n",
        "print(string)"
      ],
      "metadata": {
        "id": "RpahDDxLOJWO"
      },
      "execution_count": null,
      "outputs": []
    },
    {
      "cell_type": "code",
      "source": [
        "# 2 Crie um código que solicite uma frase e depois imprima a frase na tela.\n",
        "\n",
        "frase = input(\"Digite uma frase. \")\n",
        "print(frase)"
      ],
      "metadata": {
        "id": "q3bNBLOLQNIc"
      },
      "execution_count": null,
      "outputs": []
    },
    {
      "cell_type": "code",
      "source": [
        "# 3 Crie um código que solicite uma frase à pessoa usuária e imprima a mesma frase digitada mas com todas as letras maiúsculas.\n",
        "\n",
        "frase = input(\"Digite uma frase. \")\n",
        "print (frase.upper())"
      ],
      "metadata": {
        "id": "PTlHJD08QvId"
      },
      "execution_count": null,
      "outputs": []
    },
    {
      "cell_type": "code",
      "source": [
        "# 4 Crie um código que solicite uma frase à pessoa usuária e imprima a mesma frase digitada mas com todas as letras minúsculas.\n",
        "\n",
        "frase = input(\"Digite uma frase. \")\n",
        "print (frase.lower())"
      ],
      "metadata": {
        "id": "kPQHjE_DRyf9"
      },
      "execution_count": null,
      "outputs": []
    },
    {
      "cell_type": "code",
      "source": [
        "# 5 Crie uma variável chamada “frase” e atribua a ela uma string de sua escolha. Em seguida, imprima a frase sem espaços em branco no início e no fim.\n",
        "\n",
        "texto = '  frase'\n",
        "print(texto.strip())"
      ],
      "metadata": {
        "id": "lFQlTSqMSa9o"
      },
      "execution_count": null,
      "outputs": []
    },
    {
      "cell_type": "code",
      "source": [
        "# 6 Crie um código que solicite uma frase à pessoa usuária e imprima a mesma frase sem espaços em branco no início e no fim.\n",
        "\n",
        "texto1 = input('Digite uma frase')\n",
        "print(texto1.strip())"
      ],
      "metadata": {
        "id": "gV3XgmaoS0IQ"
      },
      "execution_count": null,
      "outputs": []
    },
    {
      "cell_type": "code",
      "source": [
        "# 7 Crie um código que solicite uma frase à pessoa usuária e imprima a mesma frase sem espaços em branco no início e no fim e em letras minúsculas.\n",
        "\n",
        "texto1 = input('Digite uma frase')\n",
        "print(texto1.strip().lower())"
      ],
      "metadata": {
        "id": "B6R2N8GaTgFF"
      },
      "execution_count": null,
      "outputs": []
    },
    {
      "cell_type": "code",
      "source": [
        "# 8 Crie um código que solicite uma frase à pessoa usuária e imprima a mesma frase com todas as vogais “e” trocadas pela letra “f”.\n",
        "\n",
        "texto1 = input('Digite uma frase')\n",
        "print(texto1.replace('e', 'f'))\n"
      ],
      "metadata": {
        "id": "w48maQpIUYNb"
      },
      "execution_count": null,
      "outputs": []
    },
    {
      "cell_type": "code",
      "source": [
        "# 9 Crie um código que solicite uma frase à pessoa usuária e imprima a mesma frase com todas as vogais “a” trocadas pela caractere “@”.\n",
        "texto1 = input('Digite uma frase')\n",
        "print(texto1.replace('a', '@'))"
      ],
      "metadata": {
        "id": "uQ4M3k9AVNSc"
      },
      "execution_count": null,
      "outputs": []
    },
    {
      "cell_type": "code",
      "source": [
        "# 10 Crie um código que solicite uma frase à pessoa usuária e imprima a mesma frase com todas as consoantes “s” trocadas pelo caractere “$”.\n",
        "texto1 = input('Digite uma frase')\n",
        "print(texto1.replace('s', '$'))"
      ],
      "metadata": {
        "id": "jqFIw3inVYbu"
      },
      "execution_count": null,
      "outputs": []
    },
    {
      "cell_type": "markdown",
      "source": [
        "# Utilizando if e else"
      ],
      "metadata": {
        "id": "HMpMaUO3RD1O"
      }
    },
    {
      "cell_type": "markdown",
      "source": [
        "Situação: Receberemos a média de estudantes e precisamos de um algoritmo que execute a análise e decida se esse estudante está Aprovado ou Reprovado, mostrando uma mensagem do resultado. Para ser aprovado, a média precisa ser igual ou superior à 6.0."
      ],
      "metadata": {
        "id": "L1Erh-5rSB6x"
      }
    },
    {
      "cell_type": "code",
      "source": [
        "media = float(input('Digite a média: '))\n",
        "\n",
        "if media >= 7:\n",
        "    print('Aprovado(a)')\n",
        "else:\n",
        "    print('Reprovado(a)')\n"
      ],
      "metadata": {
        "id": "luuZwW9YRFAx"
      },
      "execution_count": null,
      "outputs": []
    },
    {
      "cell_type": "markdown",
      "source": [
        "Neste caso, temos as condições:\n",
        "\n",
        "Se a média for igual ou superior a 6, a pessoa está aprovada.\n",
        "\n",
        "Se a média estiver entre 4 e 6, a pessoa está de recuperação.\n",
        "\n",
        "Se a média for inferior a 4, a pessoa está reprovada."
      ],
      "metadata": {
        "id": "aHWAHKHOSXhP"
      }
    },
    {
      "cell_type": "code",
      "source": [
        "media = float(input('Digite a média: '))\n",
        "\n",
        "if media >= 6.0:\n",
        "  print('Aprovado(a)')\n",
        "if 6.0 > media >= 4.0:\n",
        "  print('recuperação(a)')\n",
        "if media < 4.0:\n",
        "   print('Reprovado(a)')\n"
      ],
      "metadata": {
        "id": "Vysm2T-ITTQg"
      },
      "execution_count": null,
      "outputs": []
    },
    {
      "cell_type": "markdown",
      "source": [
        "# Outras alternativas com elif"
      ],
      "metadata": {
        "id": "wJswH8zmbKSN"
      }
    },
    {
      "cell_type": "markdown",
      "source": [
        "Essa estrutura será executada se a condição superior a ela for falsa. O código de execução será executado se a condição inserida nela for verdadeira. Vamos analisar a sintaxe do elif:\n",
        "\n",
        "if condição1:\n",
        "    # faça algo\n",
        "elif condição2:\n",
        "    # faça outra coisa\n",
        "elif condição3:\n",
        "    # faça mais alguma coisa\n",
        "else:\n",
        "    # faça algo diferente"
      ],
      "metadata": {
        "id": "oESwWGwBcDxt"
      }
    },
    {
      "cell_type": "code",
      "source": [
        "media = float(input('Digite a média: '))\n",
        "\n",
        "if media >= 6.0:\n",
        "  print('Aprovado(a)')\n",
        "elif 6.0 > media >= 4.0:\n",
        "  print('recuperação(a)')\n",
        "else\n",
        "   print('Reprovado(a)')"
      ],
      "metadata": {
        "id": "OBz5qupqcF4C"
      },
      "execution_count": null,
      "outputs": []
    },
    {
      "cell_type": "markdown",
      "source": [
        "# Operadores lógicos"
      ],
      "metadata": {
        "id": "YEV2OJEXjJZ3"
      }
    },
    {
      "cell_type": "code",
      "source": [
        "t1 = t2 = True\n",
        "f1 = f2 = False"
      ],
      "metadata": {
        "id": "5VWeN4Lro8g2"
      },
      "execution_count": null,
      "outputs": []
    },
    {
      "cell_type": "code",
      "source": [
        "if t1 and f2:\n",
        "  print('expressão verdadeira')\n",
        "else:\n",
        "  print('expressão falsa')"
      ],
      "metadata": {
        "id": "lhLtWWhrjKaD"
      },
      "execution_count": null,
      "outputs": []
    },
    {
      "cell_type": "code",
      "source": [
        "if t1 or f2:\n",
        "  print('expressão verdadeira')\n",
        "else:\n",
        "  print('expressão falsa')"
      ],
      "metadata": {
        "id": "4qjRKL-Hkmwf"
      },
      "execution_count": null,
      "outputs": []
    },
    {
      "cell_type": "code",
      "source": [
        "if not t1:\n",
        "  print('expressão verdadeira')\n",
        "else:\n",
        "  print('expressão falsa')"
      ],
      "metadata": {
        "id": "xU9RZvJ-kqYm"
      },
      "execution_count": null,
      "outputs": []
    },
    {
      "cell_type": "markdown",
      "source": [
        "# Situação:\n",
        "A escola nos passou uma lista com nomes de estudantes aprovados por média no semestre. Precisamos verificar se alguns nomes estão nessa lista, pois, aparentemente, alguns nomes que deveriam estar nela, não estão. Sendo assim, vamos confirmar se os dados estão corretos."
      ],
      "metadata": {
        "id": "ciq6DE1uokBQ"
      }
    },
    {
      "cell_type": "code",
      "source": [
        "lista = 'José da Silva, Maria Oliveira, Pedro Martins, Ana Souza, Carlos Rodrigues, Juliana Santos, Bruno Gomes, Beatriz Costa, Felipe Almeida, Mariana Fernandes, João Pinto, Luísa Nascimento, Gabriel Souza, Manuela Santos, Thiago Oliveira, Sofia Ferreira, Rafael Albuquerque, Isabella Gomes, Bruno Costa, Maria Martins, Rafaela Souza, Matheus Fernandes, Luísa Almeida, Beatriz Pinto, Mariana Rodrigues, Gabriel Nascimento, João Ferreira, Maria Albuquerque, Felipe Oliveira'"
      ],
      "metadata": {
        "id": "JuiOdBiTon1Y"
      },
      "execution_count": null,
      "outputs": []
    },
    {
      "cell_type": "code",
      "source": [
        "nome_1 = 'Mariana Rodrigues'\n",
        "nome_2 = 'Marcelo Nogueira'"
      ],
      "metadata": {
        "id": "mDwzdvU1pRDS"
      },
      "execution_count": null,
      "outputs": []
    },
    {
      "cell_type": "code",
      "source": [
        "if nome_1 in lista:\n",
        "  print(f'{nome_1} está na lista')\n",
        "else:\n",
        "  print(f'{nome_1} não está na lista')"
      ],
      "metadata": {
        "id": "HuaUMCV3pwug"
      },
      "execution_count": null,
      "outputs": []
    },
    {
      "cell_type": "markdown",
      "source": [
        "# Desafio: hora da prática"
      ],
      "metadata": {
        "id": "86CZceBVp9dW"
      }
    },
    {
      "cell_type": "code",
      "source": [
        "# 1) Escreva um programa que peça à pessoa usuária para fornecer dois números e exibir o número maior.\n",
        "\n",
        "numero1 = float(input('Digite o 1º número: '))\n",
        "numero2 = float(input('Digite o 2º número: '))\n",
        "\n",
        "if numero1 > numero2:\n",
        "    print(' 1º maior que número 2º')\n",
        "elif numero1 < numero2:\n",
        "    print(' 2º maior que número 1º')\n",
        "else:\n",
        "      print('1º e 2º são')\n",
        "\n"
      ],
      "metadata": {
        "id": "55BvmbMHp_5F"
      },
      "execution_count": null,
      "outputs": []
    },
    {
      "cell_type": "code",
      "source": [
        "# 2) Escreva um programa que solicite o percentual de crescimento de produção de uma empresa e informe se houve um\n",
        "# crescimento (porcentagem positiva) ou decrescimento (porcentagem negativa).\n",
        "\n",
        "variacao = float(input('Digite o percentual de crescimento: '))\n",
        "\n",
        "if variacao > 0:\n",
        "  print(f'Percentual de crescimento é {variacao}% ')\n",
        "elif variacao < 0:\n",
        "  print(f'Percentual de crescimento é {variacao}% ')\n",
        "else:\n",
        "  print(f'Não ouve crecimento percentual é igual a {variacao}%')\n"
      ],
      "metadata": {
        "id": "xSFcBpnxs4aI"
      },
      "execution_count": null,
      "outputs": []
    },
    {
      "cell_type": "code",
      "source": [
        "# 3) Escreva um programa que determine se uma letra fornecida pela pessoa usuária é uma vogal ou consoante.\n",
        "\n",
        "lista = 'a','e','i','o','u'\n",
        "\n",
        "letra = input('Digite um volgal ou consoante')\n",
        "\n",
        "if letra in lista:\n",
        "  print('Vogal')\n",
        "else:\n",
        "  print('Consotante')"
      ],
      "metadata": {
        "id": "feZo7yz7v3vx"
      },
      "execution_count": null,
      "outputs": []
    },
    {
      "cell_type": "code",
      "source": [
        "# 4) Escreva um programa que leia valores médios de preços de um modelo de carro por 3 anos consecutivos e exiba o valor mais alto e mais baixo entre esses três anos.\n",
        "\n",
        "ano1 = float(input('Dgite o valor medio do primeiro ano: '))\n",
        "ano2 = float(input('Dgite o valor medio do segundo ano: '))\n",
        "ano3 = float(input('Dgite o valor medio do terceiro ano: '))\n",
        "\n",
        "maior = ano1\n",
        "\n",
        "if ano2 > maior:\n",
        " maior = ano2\n",
        "if ano3 > maior:\n",
        " maior = ano3\n",
        "\n",
        "menor = ano1\n",
        "\n",
        "if ano2 < menor:\n",
        " menor = ano2\n",
        "if ano3 < menor:\n",
        " menor = ano3\n",
        "\n",
        "print(f'Maior preço é {maior}')\n",
        "print(f'menor preço é {menor}')\n"
      ],
      "metadata": {
        "id": "NPJAlTryyDgk"
      },
      "execution_count": null,
      "outputs": []
    },
    {
      "cell_type": "code",
      "source": [
        "# 5) Escreva um programa que pergunte sobre o preço de três produtos e indique qual é o produto mais barato para comprar.\n",
        "\n",
        "\n",
        "prod1 = float(input('Dgite o valor do primeiro produto: '))\n",
        "prod2 = float(input('Dgite o valor do segundo produto: '))\n",
        "prod3 = float(input('Dgite o valor do terceiro produto '))\n",
        "\n",
        "if prod1 < prod2 and prod1 < prod3:\n",
        " print('O primeiro produto é o mais barato.')\n",
        "\n",
        "elif prod2 < prod1 and prod2 < prod3:\n",
        " print('O segundo produto é o mais barato.')\n",
        "\n",
        "elif prod3 < prod1 and prod3 < prod2:\n",
        " print('O terceiro produto é o mais barato.')\n",
        "elif prod1 == prod2 == prod3:\n",
        " print('Os produtos possuem o mesmo preço.')\n",
        "else:\n",
        "   if prod1 == prod2:\n",
        "     print('O primeiro e o segundo produtos são os mais baratos.')\n",
        "   elif prod2 == prod3:\n",
        "     print('O segundo e terceiro produtos são os mais baratos.')\n",
        "   elif prod1 == prod3:\n",
        "     print('O primeiro e o terceiro produtos são os mais baratos.')\n"
      ],
      "metadata": {
        "id": "UpTN0eExujRT"
      },
      "execution_count": null,
      "outputs": []
    },
    {
      "cell_type": "code",
      "source": [
        "# 6) Escreva um programa que leia três números e os exiba em ordem decrescente.\n",
        "\n",
        "num1 = float(input('Dgite o valor do primeiro produto: '))\n",
        "num2 = float(input('Dgite o valor do segundo produto: '))\n",
        "num3 = float(input('Dgite o valor do terceiro produto '))\n",
        "\n",
        "\n",
        "if (num1 >= num2) and (num1 >= num3):\n",
        "    print(num1)\n",
        "    if num2 >= num3:\n",
        "        print(num2)\n",
        "        print(num3)\n",
        "    else:\n",
        "        print(num3)\n",
        "        print(num2)\n",
        "elif (num2 >= num1) and (num2 >= num3):\n",
        "    print(num2)\n",
        "    if num1 >= num3:\n",
        "        print(num1)\n",
        "        print(num3)\n",
        "    else:\n",
        "        print(num3)\n",
        "        print(num1)\n",
        "else:\n",
        "    print(num3)\n",
        "    if num1 >= num3:\n",
        "        print(num1)\n",
        "        print(num2)\n",
        "    else:\n",
        "        print(num2)\n",
        "        print(num1)\n",
        "\n",
        "\n",
        "\n"
      ],
      "metadata": {
        "id": "VolM4LoG8Flo"
      },
      "execution_count": null,
      "outputs": []
    },
    {
      "cell_type": "code",
      "source": [
        "# 7) Escreva um programa que pergunte em qual turno a pessoa usuária estuda (\"manhã\", \"tarde\" ou \"noite\")\n",
        "# e exiba a mensagem \"Bom Dia!\", \"Boa Tarde!\", \"Boa Noite!\", ou \"Valor Inválido!\", conforme o caso.\n",
        "\n",
        "turno = input(print('Qual turno você trabalha (\"manhã\", \"tarde\" ou \"noite\")'))\n",
        "\n",
        "if turno == 'manhã':\n",
        "  print('Bom Dia!')\n",
        "elif turno == 'tarde':\n",
        "  print('Boa Tarde!')\n",
        "elif turno == 'noite':\n",
        "  print('Boa Noite!')\n",
        "else:\n",
        "  print('Valor Inválido!')"
      ],
      "metadata": {
        "id": "stbIa5KmPVmA"
      },
      "execution_count": null,
      "outputs": []
    },
    {
      "cell_type": "code",
      "source": [
        "# 8) Escreva um programa que peça um número inteiro à pessoa usuária e determine se ele é par ou ímpar. Dica: Você pode utilizar o operador módulo %.\n",
        "\n",
        "num = int(input('Digite um número: '))\n",
        "\n",
        "if num % 2 == 0:\n",
        "    print('Par')\n",
        "else:\n",
        "    print('Impar')\n"
      ],
      "metadata": {
        "id": "7XIbuQ3yfa9W"
      },
      "execution_count": null,
      "outputs": []
    },
    {
      "cell_type": "code",
      "source": [
        "# 9 - Podemos usar o operador de módulo % para determinar se um número é inteiro ou decimal. Se o operador de módulo %\n",
        "# retornar zero da divisão inteira de um número por 1, então ele é inteiro. Se não for, ele é decimal.\n",
        "\n",
        "num = float(input('Digite um número: '))\n",
        "\n",
        "if num % 1 == 0:\n",
        "    print('inteiro')\n",
        "else:\n",
        "    print('decimal')"
      ],
      "metadata": {
        "id": "UR3nVXYmgEy1"
      },
      "execution_count": null,
      "outputs": []
    },
    {
      "cell_type": "code",
      "source": [
        "# 10) Um programa deve ser escrito para ler dois números e, em seguida, perguntar à pessoa usuária qual operação\n",
        "# ele deseja realizar. O resultado da operação deve incluir informações sobre o número - se é par ou ímpar, positivo ou negativo e inteiro ou decimal.\n",
        "\n",
        "nun1 = float(input('Digite o primeiro número: '))\n",
        "num2 = float(input('Digite o segundo número: '))\n",
        "operacao = input('Digite a operçãa a ser realizada (+, -, *, /): ')\n",
        "\n",
        "if operacao == '+':\n",
        "  resultado = num1 + num2\n",
        "elif operacao == '-':\n",
        "  resultado = num1 - num2\n",
        "elif operacao == '*':\n",
        "  resultado = num1 * num2\n",
        "elif operacao == '/':\n",
        "  resultado = num / num2\n",
        "else:\n",
        "  print('Operação invalida,')\n",
        "  resultado = 0\n",
        "\n",
        "print(f'Resultado é {resultado}')\n",
        "\n",
        "if resultado % 2 == 0:\n",
        "  print('Número par')\n",
        "else:\n",
        "  print('Número impar')\n",
        "\n",
        "if resultado > 0:\n",
        "  print('Número positivo')\n",
        "else:\n",
        "  print('Número negativo')\n",
        "\n",
        "if resultado % 1 == 0:\n",
        "  print('Número inteiro')\n",
        "else:\n",
        "  print('Número decimal')\n",
        "\n"
      ],
      "metadata": {
        "id": "GUVHeq7fgoPR"
      },
      "execution_count": null,
      "outputs": []
    },
    {
      "cell_type": "code",
      "source": [
        "# 11) Escreva um programa que peça à pessoa usuária três números que representam os\n",
        "# lados de um triângulo. O programa deve informar se os valores podem ser utilizados\n",
        "# para formar um triângulo e, caso afirmativo, se ele é equilátero, isósceles ou escaleno. Tenha em mente algumas dicas:\n",
        "\n",
        "#Três lados formam um triângulo quando a soma de quaisquer dois lados for maior que o terceiro;\n",
        "#Triângulo Equilátero: três lados iguais;\n",
        "#Triângulo Isósceles: quaisquer dois lados iguais;\n",
        "#Triângulo Escaleno: três lados diferentes.\n",
        "\n",
        "lad1 = float(input('Digite o primeiro número: '))\n",
        "lad2 = float(input('Digite o segundo número: '))\n",
        "lad3 = float(input('Digite o terceiro número: '))\n",
        "\n",
        "if (lad1 + lad2 > lad3) and ( lad2 + lad3 > lad1) and (lad1 + lad3 > lad2):\n",
        "  print('triângulo')\n",
        "  if(lad1 == lad2) and (lad2 == lad3):\n",
        "   print('Equilátero')\n",
        "  elif (lad1 != lad2 ) and (lad2 != lad3) and (lad1 != lad3):\n",
        "   print('Isósceles')\n",
        "  else:\n",
        "   print('Escaleno')\n",
        "\n",
        "else:\n",
        "  print('Ivalido')\n"
      ],
      "metadata": {
        "id": "RQUsHhTtnEwW"
      },
      "execution_count": null,
      "outputs": []
    },
    {
      "cell_type": "code",
      "source": [
        "# 12) Um estabelecimento está vendendo combustíveis com descontos variados. Para o etanol, se a quantidade\n",
        "# comprada for até 15 litros, o desconto será de 2% por litro. Caso contrário, será de 4% por litro. Para o\n",
        "#diesel, se a quantidade comprada for até 15 litros, o desconto será de 3% por litro. Caso contrário, será\n",
        "#de 5% por litro. O preço do litro de diesel é R$ 2,00 e o preço do litro de etanol é R$ 1,70. Escreva um\n",
        "#programa que leia a quantidade de litros vendidos e o tipo de combustível (E para etanol e D para diesel)\n",
        "#e calcule o valor a ser pago pelo cliente. Tenha em mente algumas dicas:\n",
        "\n",
        "# O do valor do desconto será a multiplicação entre preço do litro, quantidade de litros e o valor do desconto.\n",
        "# O valor a ser pago por um cliente será o resultado da multiplicação do preço do litro pela quantidade de litros menos o valor de desconto resultante do cálculo.\n",
        "\n",
        "\n",
        "\n",
        "\n",
        "combustivel = input('Selecione o combustível desejado: Etanol = E, Disel = D: ')\n",
        "quatidade = float(input('Digite a quantidade desejada: '))\n",
        "\n",
        "if combustivel == 'D':\n",
        "  preco_disel = 2.00\n",
        "\n",
        "  if quatidade >= 15:\n",
        "\n",
        "\n",
        "\n"
      ],
      "metadata": {
        "id": "hirmas6xwshE"
      },
      "execution_count": null,
      "outputs": []
    },
    {
      "cell_type": "markdown",
      "source": [
        "# O que são estruturas de repetição?"
      ],
      "metadata": {
        "id": "KJinqjk6sWXH"
      }
    },
    {
      "cell_type": "code",
      "source": [
        "contador = 1\n",
        "while contador <= 10:\n",
        "  print(contador)\n",
        "  contador = contador+1"
      ],
      "metadata": {
        "id": "-eC0DAcdsbig"
      },
      "execution_count": null,
      "outputs": []
    },
    {
      "cell_type": "markdown",
      "source": [
        "Vamos executar a célula. Entramos na primeira linha do bloco while, pedindo a primeira nota do primeiro aluno. Vamos colocar 5 para a primeira nota, apertar \"Enter\" e colocar 6 como a segunda nota do mesmo aluno."
      ],
      "metadata": {
        "id": "BsuojNG7oikf"
      }
    },
    {
      "cell_type": "code",
      "source": [
        "contador = 1\n",
        "while contador <= 3:\n",
        "  nota_1 = float(input('Digite a 1° nota: '))\n",
        "  nota_2 = float(input('Digite a 2° nota: '))\n",
        "\n",
        "  print(f'Média: {(nota_1+nota_2)/2}')\n",
        "  contador += 1"
      ],
      "metadata": {
        "id": "Wec9m1E1wFdx"
      },
      "execution_count": null,
      "outputs": []
    },
    {
      "cell_type": "markdown",
      "source": [
        "Para saber mais: operadores de atribuição"
      ],
      "metadata": {
        "id": "3JQ7sfiGy8C4"
      }
    },
    {
      "cell_type": "markdown",
      "source": [
        "Operador\tDescrição\tExemplo\n",
        "\n",
        "-=\tSubtrai um valor na variável\tpreco-=5\n",
        "\n",
        "*=\tMultiplica um valor pela variável\tpreco*=3\n",
        "\n",
        "/=\tDivide a variável por um valor\tpreco/=2\n",
        "\n",
        "//=\tRealiza divisão inteira da variável por um valor\tpreco//=6\n",
        "\n",
        "%=\tCalcula o resto da divisão do valor na variável e atribui o resultado à variável\tpreco%=5\n"
      ],
      "metadata": {
        "id": "6Y966Urwy8mY"
      }
    },
    {
      "cell_type": "markdown",
      "source": [
        "# Laço for"
      ],
      "metadata": {
        "id": "PC5yaCkc0b_C"
      }
    },
    {
      "cell_type": "markdown",
      "source": [
        "Função range()\n",
        "Para fazer um exemplo for for com um contador, precisamos de um conjunto de elementos que podem ser criados pela função range().\n",
        "\n",
        "A função range() é responsável por criar uma sequência de números inteiros por meio da especificação do início e o fim da sequência. Também podemos identificar o passo dessa sequência, por exemplo, de dois em dois números.\n",
        "\n",
        "Sua aplicação é útil para a criação de contadores e delimitadores numéricos, como fizemos com o laço while.\n",
        "\n",
        "A sintaxe de criação dessa função é:\n",
        "\n",
        "# range(inicio, fim, passo)"
      ],
      "metadata": {
        "id": "0djPaHcr0hZM"
      }
    },
    {
      "cell_type": "code",
      "source": [
        "for contador in range(1,4):\n",
        "  nota_1 = float(input('Digite a 1° nota: '))\n",
        "  nota_2 = float(input('Digite a 2° nota: '))\n",
        "\n",
        "  print(f'Média: {(nota_1+nota_2)/2}')"
      ],
      "metadata": {
        "id": "pJ3Aq77w0lKg"
      },
      "execution_count": null,
      "outputs": []
    },
    {
      "cell_type": "markdown",
      "source": [
        "# Desafio: hora da prática"
      ],
      "metadata": {
        "id": "0ryY7VIHwoP7"
      }
    },
    {
      "cell_type": "code",
      "source": [
        "# 1 - Escreva um programa que peça dois números inteiros e imprima todos os números inteiros entre eles.\n",
        "\n",
        "num1 = int(input('Digite o primeiro número: '))\n",
        "num2 = int(input('Digite o segundo número: '))\n",
        "\n",
        "maior = num1\n",
        "\n",
        "if num2 > maior:\n",
        "  maior = num2\n",
        "\n",
        "menor = num1\n",
        "\n",
        "if num2 < menor:\n",
        "  menor = num2\n",
        "\n",
        "for contador in range(menor + 1, maior):\n",
        "  print(contador)\n",
        "\n",
        "\n"
      ],
      "metadata": {
        "id": "hfb47wY3wpPp"
      },
      "execution_count": null,
      "outputs": []
    },
    {
      "cell_type": "code",
      "source": [
        "# 1 - 2) Escreva um programa para calcular quantos dias levará para a colônia de\n",
        "# uma bactéria A ultrapassar ou igualar a colônia de uma bactéria B, com base nas\n",
        "# taxas de crescimento de 3% e 1,5% respectivamente. Considere que a colônia A\n",
        "# inicia com 4 elementos e a B com 10.\n",
        "\n",
        "colonia_A = 4\n",
        "colonia_B = 10\n",
        "\n",
        "taxa_A = 0.03\n",
        "taxa_B = 0.015\n",
        "\n",
        "dias = 0\n",
        "\n",
        "while colonia_A <= colonia_B:\n",
        "  colonia_A *= taxa_A\n",
        "  colonia_B *= taxa_B\n",
        "  dias += 1\n",
        "\n",
        "print(f'Colônia A levará {dias} dias para ultrapassar colônia B')"
      ],
      "metadata": {
        "id": "y_Doj1Qa9o6h"
      },
      "execution_count": null,
      "outputs": []
    },
    {
      "cell_type": "code",
      "source": [
        "# 3 - Para tratar uma quantidade de 15 dados de avaliações de pessoas usuárias de\n",
        "# um serviço da empresa, precisamos verificar se as notas são válidas. Então,\n",
        "# escreva um programa que vai receber a nota de 0 a 5 de todos os dados e verificar\n",
        "# se é um valor válido. Caso seja inserido uma nota acima de 5 ou abaixo de 0,\n",
        "# repita até que a pessoa usuária insira um valor válido.\n",
        "\n",
        "for i in range(15):\n",
        "  notas = float(input(f'Para avaliação digite uma nota de 0 a 5, usuário {i}: '))\n",
        "\n",
        "  while (notas < 0) or (notas > 5):\n",
        "   notas = float(input('Nota invalida, digite novamnete'))\n",
        "\n",
        "print('Todas interações foram validas')\n",
        "\n"
      ],
      "metadata": {
        "id": "oVvb_VghIEmg"
      },
      "execution_count": null,
      "outputs": []
    },
    {
      "cell_type": "code",
      "source": [
        "# 4 Desenvolva um programa que leia um conjunto indeterminado de temperaturas em\n",
        "# Celsius e informe a média delas. A leitura deve ser encerrada ao ser enviado o valor -273°C.\n",
        "\n",
        "temperatura = float(input('Digite o valaor da temperatura'))\n",
        "\n",
        "contador = 0\n",
        "soma = 0\n",
        "\n",
        "while temperatura != -273:\n",
        "\n",
        "  soma += temperatura\n",
        "\n",
        "  contador += 1\n",
        "\n",
        "  temperatura = float(input('Digite o valaor da temperatura'))\n",
        "\n",
        "media = soma / contador\n",
        "\n",
        "print(f'Valar da media é : {media}')\n"
      ],
      "metadata": {
        "id": "AhsMbnPuMSbf"
      },
      "execution_count": null,
      "outputs": []
    },
    {
      "cell_type": "code",
      "source": [
        "# 5 - Escreva um programa que calcule o fatorial de um número inteiro fornecido pela\n",
        "# pessoa usuária. Lembrando que o fatorial de um número inteiro é a multiplicação\n",
        "# desse número por todos os seus antecessores até o número 1. Por exemplo, o\n",
        "# fatorial de 5 é 5 x 4 x 3 x 2 x 1 = 120.\n",
        "\n",
        "numero = int(input('Digite o inteiro número á ser fatorado'))\n",
        "\n",
        "fatorial = 1\n",
        "\n",
        "i = numero\n",
        "\n",
        "while i > 0:\n",
        "\n",
        "  fatorial *= i\n",
        "  i -= 1\n",
        "\n",
        "print(f'Fatorial de {numero} é {fatorial}')\n"
      ],
      "metadata": {
        "id": "Z-q8kM5cQt4i"
      },
      "execution_count": null,
      "outputs": []
    },
    {
      "cell_type": "code",
      "source": [
        "#  6 -  Escreva um programa que gere a tabuada de um número inteiro de 1 a 10, de\n",
        "#  acordo com a escolha da pessoa usuária. Como exemplo, para o número 2, a\n",
        "#  tabuada deve ser mostrada no seguinte formato:\n",
        "\n",
        "numero = int(input('Digite o valor da tabuada de 0 a 10: '))\n",
        "\n",
        "contador = 1\n",
        "while contador <= numero:\n",
        "  multiplicacao = numero * contador\n",
        "  print(f'{numero} X {contador} = {multiplicacao}')\n",
        "  contador += 1\n"
      ],
      "metadata": {
        "id": "Z168hdV9W6me"
      },
      "execution_count": null,
      "outputs": []
    },
    {
      "cell_type": "code",
      "source": [
        "# 7 Os números primos possuem várias aplicações dentro da Ciência de Dados em criptografia\n",
        "# e segurança, por exemplo. Um número primo é aquele que é divisível apenas por um e por\n",
        "# ele mesmo. Assim, faça um programa que peça um número inteiro e determine se ele é ou não um número primo.\n",
        "\n",
        "numero = int(input('Digite um número: '))\n",
        "\n",
        "inicio = 1\n",
        "divisores = 0\n",
        "\n",
        "while inicio <= numero:\n",
        " if numero % inicio == 0:\n",
        "   divisores += 1\n",
        " inicio += 1\n",
        "\n",
        "if divisores > 2:\n",
        "  print('Não é primo')\n",
        "else:\n",
        "  print('É primo')\n",
        "\n"
      ],
      "metadata": {
        "id": "4fjEjDXBZOyu"
      },
      "execution_count": null,
      "outputs": []
    },
    {
      "cell_type": "code",
      "source": [
        "#  8 -  Vamos entender a distribuição de idades de pensionistas de uma empresa\n",
        "#       de previdência. Escreva um programa que leia as idades de uma quantidade\n",
        "#       não informada de clientes e mostre a distribuição em intervalos de\n",
        "#       [0-25], [26-50], [51-75] e [76-100]. Encerre a entrada de dados com um número negativo.\n",
        "\n",
        "idade = int(input('Digite sua idade: '))\n",
        "\n",
        "intervalo_0_25 = 0\n",
        "intervalo_26_50 = 0\n",
        "intervalo_51_75 = 0\n",
        "intervalo_76_100 = 0\n",
        "\n",
        "\n",
        "while idade >= 0:\n",
        "  if idade >= 0 and idade <= 25:\n",
        "    intervalo_0_25 += 1\n",
        "  elif idade >= 26 and idade <= 50:\n",
        "    intervalo_26_50 += 1\n",
        "  elif idade >= 51 and idade <= 75:\n",
        "    intervalo_51_75 += 1\n",
        "  elif idade >= 76 and idade <= 100:\n",
        "    intervalo_76_100 += 1\n",
        "\n",
        "  idade = int(input('Digite sua idade ou número negativo para sair '))\n",
        "\n",
        "print('0 a 25: ', intervalo_0_25)\n",
        "print('26 a 50: ', intervalo_26_50)\n",
        "print('51 a 75: ', intervalo_51_75)\n",
        "print('76 a 100: ', intervalo_76_100)\n"
      ],
      "metadata": {
        "id": "NLNKzaA6gyiH"
      },
      "execution_count": null,
      "outputs": []
    },
    {
      "cell_type": "code",
      "source": [
        "# 9\n",
        "\n",
        "# Inicializamos as variáveis contadoras\n",
        "votos_candidato1 = 0\n",
        "votos_candidato2 = 0\n",
        "votos_candidato3 = 0\n",
        "votos_candidato4 = 0\n",
        "votos_nulos = 0\n",
        "votos_branco = 0\n",
        "\n",
        "# Início do laço para ler os votos\n",
        "for i in range(0,20):\n",
        "    voto = int(input('Informe seu voto: '))\n",
        "    if voto == 1:\n",
        "        votos_candidato1 += 1\n",
        "    elif voto == 2:\n",
        "        votos_candidato2 += 1\n",
        "    elif voto == 3:\n",
        "        votos_candidato3 += 1\n",
        "    elif voto == 4:\n",
        "        votos_candidato4 += 1\n",
        "    elif voto == 5:\n",
        "        votos_nulos += 1\n",
        "    elif voto == 6:\n",
        "        votos_branco += 1\n",
        "    else:\n",
        "        print(\"Voto inválido.\")\n",
        "\n",
        "print(f'Votos candidato 1: {votos_candidato1}')\n",
        "print(f'Votos candidato 2: {votos_candidato2}')\n",
        "print(f'Votos candidato 3: {votos_candidato3}')\n",
        "print(f'Votos candidato 4: {votos_candidato4}')\n",
        "print(f'Votos nulos: {votos_nulos}')\n",
        "print(f'Votos em branco: {votos_branco}')\n",
        "print(f'Percentual de votos nulos: {(votos_nulos / 20 * 100)}')\n",
        "print(f'Percentual de votos em branco: {(votos_branco / 20 * 100)}')"
      ],
      "metadata": {
        "id": "0yYMKFNllsZ9"
      },
      "execution_count": null,
      "outputs": []
    },
    {
      "cell_type": "markdown",
      "source": [],
      "metadata": {
        "id": "fvingJBp4Qh-"
      }
    },
    {
      "cell_type": "code",
      "source": [],
      "metadata": {
        "id": "OvE5uDXjgXee"
      },
      "execution_count": null,
      "outputs": []
    },
    {
      "cell_type": "code",
      "source": [
        "lista = ['Fabricio Daniel',9.5,9.0,8.0,True]\n",
        "lista\n",
        "\n",
        "lista[0]"
      ],
      "metadata": {
        "id": "wiLTEG2b0iiB"
      },
      "execution_count": null,
      "outputs": []
    },
    {
      "cell_type": "code",
      "source": [
        "[0]\t[1]\t[2]\t[3]\t[4]\n",
        "Fabricio Daniel\t9.5\t9.0\t8.0\tTrue"
      ],
      "metadata": {
        "id": "PESj6a7f4WfX"
      },
      "execution_count": null,
      "outputs": []
    },
    {
      "cell_type": "code",
      "source": [
        "[-5]\t[-4]\t[-3]\t[-2]\t[-1]\n",
        "Fabricio Daniel\t9.5\t9.0\t8.0\tTrue\n"
      ],
      "metadata": {
        "id": "WsdXuhZl4ehi"
      },
      "execution_count": null,
      "outputs": []
    },
    {
      "cell_type": "code",
      "source": [
        "lista[1]"
      ],
      "metadata": {
        "id": "s8C2t3f_6Kbl"
      },
      "execution_count": null,
      "outputs": []
    },
    {
      "cell_type": "code",
      "source": [
        "for elementos in lista:\n",
        " print(elementos)"
      ],
      "metadata": {
        "id": "tuuVA3-w6Qts"
      },
      "execution_count": null,
      "outputs": []
    },
    {
      "cell_type": "code",
      "source": [
        "lista[3] = 10\n",
        "lista"
      ],
      "metadata": {
        "id": "CLSmLmBE6RQV"
      },
      "execution_count": null,
      "outputs": []
    },
    {
      "cell_type": "code",
      "source": [
        "media = (lista[1] + lista[2] + lista[3])/3\n",
        "media"
      ],
      "metadata": {
        "id": "XByITGOd6UXo"
      },
      "execution_count": null,
      "outputs": []
    },
    {
      "cell_type": "code",
      "source": [
        "lista.extend([10.0,8.0,9.0])\n",
        "lista"
      ],
      "metadata": {
        "id": "QkqzBkaUCbYI"
      },
      "execution_count": null,
      "outputs": []
    },
    {
      "cell_type": "code",
      "source": [
        "lista.append([10.0,8.0,9.0])\n",
        "lista"
      ],
      "metadata": {
        "id": "vCqxWh0BDNlg"
      },
      "execution_count": null,
      "outputs": []
    },
    {
      "cell_type": "code",
      "source": [
        "lista.remove([10.0,8.0,9.0])\n",
        "lista"
      ],
      "metadata": {
        "id": "mJRcMGVFDaMN"
      },
      "execution_count": null,
      "outputs": []
    },
    {
      "cell_type": "markdown",
      "source": [
        "# Manipulação de listas"
      ],
      "metadata": {
        "id": "DV01v0zW9XjQ"
      }
    },
    {
      "cell_type": "code",
      "source": [
        "len(lista)"
      ],
      "metadata": {
        "id": "ziTGcQ3f6VQB"
      },
      "execution_count": null,
      "outputs": []
    },
    {
      "cell_type": "code",
      "source": [
        "lista[1:4]"
      ],
      "metadata": {
        "id": "Tnn1TS5y9WtD"
      },
      "execution_count": null,
      "outputs": []
    },
    {
      "cell_type": "code",
      "source": [
        "lista.append(media)\n",
        "lista"
      ],
      "metadata": {
        "id": "glEbFnt6BwWx"
      },
      "execution_count": null,
      "outputs": []
    },
    {
      "cell_type": "markdown",
      "source": [
        "# Dicionário"
      ],
      "metadata": {
        "id": "cINZJZW1UIXx"
      }
    },
    {
      "cell_type": "code",
      "source": [
        "dicionario = {'chave_01': 1,\n",
        "            'chave_02': 2}\n",
        "dicionario"
      ],
      "metadata": {
        "id": "jjSSiHE5UGru"
      },
      "execution_count": null,
      "outputs": []
    },
    {
      "cell_type": "code",
      "source": [
        "cadastro = { 'matricula': 48587455 ,\n",
        "             'dia_cadastro': 25,\n",
        "             'mes_cadastro': 10,\n",
        "             'turma': '2E'}\n",
        "\n",
        "cadastro"
      ],
      "metadata": {
        "id": "-KjCAErCV-f7"
      },
      "execution_count": null,
      "outputs": []
    },
    {
      "cell_type": "code",
      "source": [
        "cadastro['turma']"
      ],
      "metadata": {
        "id": "7RM45UAVWztO"
      },
      "execution_count": null,
      "outputs": []
    },
    {
      "cell_type": "code",
      "source": [
        "cadastro['turma'] = '2G'\n",
        "cadastro"
      ],
      "metadata": {
        "id": "OfKAbPqNXNGw"
      },
      "execution_count": null,
      "outputs": []
    },
    {
      "cell_type": "code",
      "source": [
        "cadastro['modalidade'] = 'EAD'\n",
        "cadastro"
      ],
      "metadata": {
        "id": "tBBhx09QXI6L"
      },
      "execution_count": null,
      "outputs": []
    },
    {
      "cell_type": "code",
      "source": [
        "# Remove um item do dicionário\n",
        "\n",
        "cadastro.pop('turma')\n"
      ],
      "metadata": {
        "id": "OUs4mhREWy-j"
      },
      "execution_count": null,
      "outputs": []
    },
    {
      "cell_type": "code",
      "source": [
        "# Retorna chave e valor da lista dicionário\n",
        "cadastro.items()\n"
      ],
      "metadata": {
        "id": "Lc1p7UBIZec6"
      },
      "execution_count": null,
      "outputs": []
    },
    {
      "cell_type": "code",
      "source": [
        "# Retorna uma lista das chaves do dicionário\n",
        "cadastro.keys()"
      ],
      "metadata": {
        "id": "FXCYwOu1ZpFh"
      },
      "execution_count": null,
      "outputs": []
    },
    {
      "cell_type": "code",
      "source": [
        "# Retorna apenas os valores do dicionário\n",
        "\n",
        "cadastro.values()"
      ],
      "metadata": {
        "id": "QfuaGopeayW9"
      },
      "execution_count": null,
      "outputs": []
    },
    {
      "cell_type": "code",
      "source": [
        "# Leitura dos valores com laço 'for'\n",
        "\n",
        "for chaves in cadastro.keys():\n",
        "  print(cadastro[chaves])"
      ],
      "metadata": {
        "id": "UDBN0i99b-UG"
      },
      "execution_count": null,
      "outputs": []
    },
    {
      "cell_type": "code",
      "source": [
        "# Trabalhar com 2 elementos ao mesmo tempo\n",
        "\n",
        "for chave, valores in cadastro.items():\n",
        " print(chave, valores)"
      ],
      "metadata": {
        "id": "_ev_vd47evZr"
      },
      "execution_count": null,
      "outputs": []
    },
    {
      "cell_type": "markdown",
      "source": [
        "# Desafio: hora da prática"
      ],
      "metadata": {
        "id": "zF4-1xR-m7w8"
      }
    },
    {
      "cell_type": "code",
      "source": [
        "# 1) Faça um programa que tenha a seguinte lista contendo os valores de gastos de\n",
        "# uma empresa de papel [2172.54, 3701.35, 3518.09, 3456.61, 3249.38, 2840.82, 3891.45, 3075.26, 2317.64, 3219.08].\n",
        "# Com esses valores, faça um programa que calcule a média de gastos. Dica: use as funções built-in sum() e len().\n",
        "\n",
        "gastos = [2172.54, 3701.35, 3518.09, 3456.61, 3249.38, 2840.82, 3891.45, 3075.26, 2317.64, 3219.08]\n",
        "\n",
        "media = sum(gastos) / len(gastos)\n",
        "print(f'{media:.2f}')"
      ],
      "metadata": {
        "id": "1yPkdCbxm8ZZ"
      },
      "execution_count": null,
      "outputs": []
    },
    {
      "cell_type": "code",
      "source": [],
      "metadata": {
        "id": "iNuOeqCwrxm6"
      },
      "execution_count": null,
      "outputs": []
    },
    {
      "cell_type": "code",
      "source": [
        "# 2) Com os mesmos dados da questão anterior, defina quantas compras foram realizadas\n",
        "# acima de 3000 reais e calcule a porcentagem quanto ao total de compras.\n",
        "\n",
        "\n",
        "gastos = [2172.54, 3701.35, 3518.09, 3456.61, 3249.38, 2840.82, 3891.45, 3075.26, 2317.64, 3219.08]\n",
        "\n",
        "gastos_acima = []\n",
        "\n",
        "for elementos in gastos:\n",
        "  if elementos > 3000.00:\n",
        "    gastos_acima.append(elementos)\n",
        "\n",
        "quantidade = len(gastos_acima)\n",
        "total = len(gastos)\n",
        "\n",
        "porcentagem = (quantidade / total) * 100\n",
        "print(f'Quantidade de compras acima de R$3000: {quantidade}')\n",
        "print(f'Porcentagem em relação ao total: {porcentagem:.2f} %')"
      ],
      "metadata": {
        "id": "SVRhLWdxp86i"
      },
      "execution_count": null,
      "outputs": []
    },
    {
      "cell_type": "code",
      "source": [
        "# 3) Faça um código que colete em uma lista 5 números inteiros quaisquer e imprima a lista. Exemplo: [1,4,7,2,4].\n",
        "\n",
        "lista = []\n",
        "\n",
        "for i in range(5):\n",
        "  lista.append(input('Digite 5 parâmetro'))\n",
        "  print(lista)\n",
        "\n",
        "\n"
      ],
      "metadata": {
        "id": "XwcRyTwstj0k"
      },
      "execution_count": null,
      "outputs": []
    },
    {
      "cell_type": "code",
      "source": [
        "# 4) Colete novamente 5 inteiros e imprima a lista em ordem inversa à enviada.\n",
        "\n",
        "\n",
        "lista = []\n",
        "\n",
        "for i in range(5):\n",
        "  lista.append(input('Digite 5 parâmetro'))\n",
        "\n",
        "print(f'{lista[::-1]}')"
      ],
      "metadata": {
        "id": "60ebnPapvH1M"
      },
      "execution_count": null,
      "outputs": []
    },
    {
      "cell_type": "code",
      "source": [
        "# 5) Faça um programa que, ao inserir um número qualquer, cria uma lista contendo todos os números primos entre 1 e o número digitado.\n",
        "\n",
        "numero = int(input('Digite um número inteiro'))\n",
        "\n",
        "lista = []\n",
        "\n",
        "\n",
        "\n",
        "for primos in range(2, numero + 1):\n",
        "  divisores = 0\n",
        "\n",
        "  for i in range(1, primos + 1):\n",
        "      if primos % i == 0:\n",
        "        divisores += 1\n",
        "\n",
        "  if divisores == 2:\n",
        "    lista.append(primos)\n",
        "\n",
        "print(lista)\n",
        "\n",
        "\n",
        "\n",
        "\n"
      ],
      "metadata": {
        "id": "wQthY3Cew0G6"
      },
      "execution_count": null,
      "outputs": []
    },
    {
      "cell_type": "code",
      "source": [
        "# 6) Escreva um programa que peça uma data informando o dia, mês e ano e determine se ela é válida para uma análise.\n",
        "\n",
        "from datetime import datetime\n",
        "\n",
        "def verificar_data_valida(dia, mes, ano):\n",
        "    try:\n",
        "        data = datetime(ano, mes, dia)\n",
        "        return True\n",
        "    except ValueError:\n",
        "        return False\n",
        "\n",
        "dia = int(input('informe o dia: '))\n",
        "mes = int(input('informe o mês: '))\n",
        "ano = int(input('informe o ano: '))\n",
        "\n",
        "if verificar_data_valida(dia, mes, ano):\n",
        "    print(\"A data é válida!\")\n",
        "else:\n",
        "    print(\"A data é inválida!\")"
      ],
      "metadata": {
        "id": "uFJwBcfVGd5w"
      },
      "execution_count": null,
      "outputs": []
    },
    {
      "cell_type": "code",
      "source": [
        "# 7) Para um estudo envolvendo o nível de multiplicação de bactérias em uma colônia,\n",
        "# foi coletado o número de bactérias por dia (em milhares) e pode ser observado a seguir:\n",
        "# [1.2, 2.1, 3.3, 5.0, 7.8, 11.3, 16.6, 25.1, 37.8, 56.9]. Tendo esses valores, faça um\n",
        "# código que gere uma lista contendo o percentual de crescimento de bactérias por dia,\n",
        "# comparando o número de bactérias em cada dia com o número de bactérias do dia anterior.\n",
        "# Dica: para calcular o percentual de crescimento usamos a\n",
        "# seguinte equação: 100 * (amostra_atual - amostra_passada) / (amostra_passada).\n",
        "\n",
        "Colonia_de_bacterias = [1.2, 2.1, 3.3, 5.0, 7.8, 11.3, 16.6, 25.1, 37.8, 56.9]\n",
        "\n",
        "percentual_crecimento = []\n",
        "\n",
        "for i in range(1, len(Colonia_de_bacterias)):\n",
        "    anterior = Colonia_de_bacterias[i - 1]\n",
        "    atual = Colonia_de_bacterias[i]\n",
        "    percentual = 100*(atual - anterior) / (anterior)\n",
        "    percentual_crecimento.append(percentual)\n",
        "\n",
        "total = sum(percentual_crecimento)\n",
        "\n",
        "print(f'Crescimento total é :{total:.2f} %')\n",
        "for i, percentual in enumerate(percentual_crecimento, start=2):\n",
        " print(f'Dia {i}: {percentual:.2f}%')\n",
        "\n",
        "\n",
        "\n"
      ],
      "metadata": {
        "id": "1EG9JA6jhjim"
      },
      "execution_count": null,
      "outputs": []
    },
    {
      "cell_type": "code",
      "source": [
        "# 8) Para uma seleção de produtos alimentícios, precisamos separar o conjunto de\n",
        "#  IDs dados por números inteiros sabendo que os produtos com ID par são doces e\n",
        "# os com ID ímpar são amargos. Monte um código que colete 10 IDs. Depois, calcule\n",
        "#e mostre a quantidade de produtos doces e amargos.\n",
        "\n",
        "produto = []\n",
        "\n",
        "\n",
        "doce = 0\n",
        "amargo = 0\n",
        "\n",
        "for elementos in range(10):\n",
        "  id = input('Digite 10 IDs: ')\n",
        "\n",
        "for i in produto:\n",
        " if i % 2 == 0:\n",
        "  doce += 1\n",
        " else:\n",
        "  amargo += 1\n",
        "\n",
        "\n",
        "print(f'Quantidade de produtos doces: {doce}')\n",
        "print(f'Quantidade de produtos amargos: {amargo}')"
      ],
      "metadata": {
        "id": "SGhmEhSPq2Sh"
      },
      "execution_count": null,
      "outputs": []
    },
    {
      "cell_type": "code",
      "source": [
        "# 9) Desenvolva um programa que informa a nota de um(a) aluno(a) de acordo com suas\n",
        "# respostas. Ele deve pedir a resposta desse(a) aluno(a) para cada questão e é preciso\n",
        "# verificar se a resposta foi igual ao gabarito. Cada questão vale um ponto e existem as alternativas A, B, C ou D.\n",
        "\n",
        "respostas = []\n",
        "nota = 0\n",
        "\n",
        "gabarito = ['D','A','C','B','A','D','C','C','A','B']\n",
        "\n",
        "\n",
        "for i in range(0, 10):\n",
        "   respostas.append(input(f'Insira a resposta da questão {i + 1}: ').upper())\n",
        "\n",
        "for i in range(0, 10):\n",
        "  if gabarito[i] == respostas[i]:\n",
        "   nota += 1\n",
        "\n",
        "\n",
        "print(nota)"
      ],
      "metadata": {
        "id": "B4Dc-HBj8Eid"
      },
      "execution_count": null,
      "outputs": []
    },
    {
      "cell_type": "code",
      "source": [],
      "metadata": {
        "id": "kxgmMcPQ_ioz"
      },
      "execution_count": null,
      "outputs": []
    },
    {
      "cell_type": "markdown",
      "source": [
        "22# Manipulação de listas"
      ],
      "metadata": {
        "id": "kVKgi_EMZoNg"
      }
    },
    {
      "cell_type": "code",
      "source": [
        "import matplotlib"
      ],
      "metadata": {
        "id": "lkBt8w9j3hGj"
      },
      "execution_count": null,
      "outputs": []
    },
    {
      "cell_type": "code",
      "source": [
        " !pip install numpy==1.23.5\n"
      ],
      "metadata": {
        "id": "wk8kepCr4Ibm"
      },
      "execution_count": null,
      "outputs": []
    },
    {
      "cell_type": "code",
      "source": [
        "matplotlib.__version__"
      ],
      "metadata": {
        "id": "kuwPDzfk7gMM"
      },
      "execution_count": null,
      "outputs": []
    },
    {
      "cell_type": "code",
      "source": [
        "import matplotlib.pyplot as plt"
      ],
      "metadata": {
        "id": "0tTs5Utf8FfF"
      },
      "execution_count": null,
      "outputs": []
    },
    {
      "cell_type": "code",
      "source": [
        "plt.show()"
      ],
      "metadata": {
        "id": "ggco_LjL8WMm"
      },
      "execution_count": null,
      "outputs": []
    },
    {
      "cell_type": "code",
      "source": [
        "import matplotlib.pyplot as plt"
      ],
      "metadata": {
        "id": "ozZkLQhs9EXx"
      },
      "execution_count": null,
      "outputs": []
    },
    {
      "cell_type": "code",
      "source": [
        "  estudantes = [\"João\", \"Maria\", \"José\"]\n",
        "notas = [8.5, 9, 6.5]"
      ],
      "metadata": {
        "id": "4I51bb0g9y11"
      },
      "execution_count": null,
      "outputs": []
    },
    {
      "cell_type": "code",
      "source": [
        "plt.bar(x = estudantes, height = notas)"
      ],
      "metadata": {
        "id": "7ninugr--fcr"
      },
      "execution_count": null,
      "outputs": []
    },
    {
      "cell_type": "code",
      "source": [
        "estudantes_2 = [\"João\", \"Maria\", \"José\", \"Ana\"]"
      ],
      "metadata": {
        "id": "-X70rZ4x-gTN"
      },
      "execution_count": null,
      "outputs": []
    },
    {
      "cell_type": "code",
      "source": [
        "from random import choice"
      ],
      "metadata": {
        "id": "dWAYvvwq-9aL"
      },
      "execution_count": null,
      "outputs": []
    },
    {
      "cell_type": "code",
      "source": [
        "help(choice)"
      ],
      "metadata": {
        "id": "-yJ8GydN_WIh"
      },
      "execution_count": null,
      "outputs": []
    },
    {
      "cell_type": "code",
      "source": [
        "estudantes = choice(estudantes_2)\n",
        "estudantes"
      ],
      "metadata": {
        "id": "kwmlN3Jz_hv7"
      },
      "execution_count": null,
      "outputs": []
    },
    {
      "cell_type": "markdown",
      "source": [
        "# Desafio: hora da prática"
      ],
      "metadata": {
        "id": "31l_ijO_BYkI"
      }
    },
    {
      "cell_type": "code",
      "source": [
        "# 1. Escreva um código para instalar a versão 3.7.1 da biblioteca matplotlib.\n",
        "\n",
        "!pip instal matplotlib==3.7.2\n",
        "\n",
        "# 2. Escreva um código para importar a biblioteca numpy com o alias np.\n",
        "\n",
        "import numpy as np"
      ],
      "metadata": {
        "id": "yon5_zhbBcZy"
      },
      "execution_count": null,
      "outputs": []
    },
    {
      "cell_type": "code",
      "source": [
        "# 3. Crie um programa que leia a seguinte lista de números e escolha um número desta aleatoriamente.\n",
        "\n",
        "numeros = [8, 12, 54, 23, 43, 1, 90, 87, 105, 77]\n",
        "\n",
        "numeros_1 = choice(numeros)\n",
        "numeros_1\n"
      ],
      "metadata": {
        "id": "z8gFMVUsB1vK"
      },
      "execution_count": null,
      "outputs": []
    },
    {
      "cell_type": "code",
      "source": [
        "# 4. Crie um programa que sorteia, aleatoriamente, um número inteiro positivo menor que 100.\n",
        "\n",
        "from random import randrange\n",
        "\n",
        "print(randrange(100))"
      ],
      "metadata": {
        "id": "U0PC9OebCkgq"
      },
      "execution_count": null,
      "outputs": []
    },
    {
      "cell_type": "code",
      "source": [
        "# 5. Crie um programa que solicite à pessoa usuária digitar dois números inteiros e calcular a potência do 1º número elevado ao 2º.\n",
        "\n",
        "import math\n",
        "\n",
        "base = int(input('Digite o primeiro numero (base): ' ))\n",
        "expoente = int(input('Digite o segundo número (expoente): '))\n",
        "\n",
        "resultado = math.pow(base, expoente)\n",
        "\n",
        "print(f'{base} elevado ao expoente {expoente} é igial a: {resultado}')"
      ],
      "metadata": {
        "id": "RlMmCm9ADJ_H"
      },
      "execution_count": null,
      "outputs": []
    },
    {
      "cell_type": "code",
      "source": [
        "# 6. Um programa deve ser escrito para sortear uma pessoa seguidora de uma rede\n",
        "# social para ganhar um prêmio. A lista de participantes é numerada e devemos escolher\n",
        "# aleatoriamente um número de acordo com a quantidade de participantes. Peça à pessoa usuária\n",
        "# para fornecer o número de participantes do sorteio e devolva para ela o número sorteado.\n",
        "\n",
        "from random import choice, randrange\n",
        "\n",
        "num_aleatorio = int(input('Digie a quantidade de participantes do sorteio: '))\n",
        "\n",
        "N = choice(range(1, num_aleatorio + 1))\n",
        "\n",
        "\n",
        "print(f'Número sorteado é: {N}')"
      ],
      "metadata": {
        "id": "CwHRfCfeErzv"
      },
      "execution_count": null,
      "outputs": []
    },
    {
      "cell_type": "code",
      "source": [
        "# 7. Você recebeu uma demanda para gerar números de token para acessar o aplicativo de uma empresa.\n",
        "# O token precisa ser par e variar de 1000 até 9998. Escreva um código que solicita à pessoa usuária\n",
        "# o seu nome e exibe uma mensagem junto a esse token gerado aleatoriamente.\n",
        "\n",
        "from random import randrange\n",
        "\n",
        "user = input('Digite seu nome de usuário para validar seu acesso: ')\n",
        "\n",
        "token = randrange(1000, 10000, 2)\n",
        "\n",
        "print(f'Olá, {user}, o seu token de acesso é {tokken}! Seja bem-vindo(a)!')\n",
        "\n"
      ],
      "metadata": {
        "id": "mSK4NRGRJ0u4"
      },
      "execution_count": null,
      "outputs": []
    },
    {
      "cell_type": "code",
      "source": [
        "# 8. Para diversificar e atrair novos(as) clientes, uma lanchonete criou um item\n",
        "# misterioso em seu cardápio chamado \"salada de frutas surpresa\". Neste item, são\n",
        "# escolhidas aleatoriamente 3 frutas de uma lista de 12 para compor a salada de\n",
        "# frutas da pessoa cliente. Crie o código que faça essa seleção aleatória de acordo com a lista abaixo:\n",
        "\n",
        "frutas = [\"maçã\", \"banana\", \"uva\", \"pêra\",\n",
        "          \"manga\", \"coco\", \"melancia\", \"mamão\",\n",
        "          \"laranja\", \"abacaxi\", \"kiwi\", \"ameixa\"]\n",
        "\n",
        "salada = choices(frutas, k=3)\n",
        "\n",
        "print(f'Salada de frutas surpesas é: {salada[0]}, {salada[1]}, {salada[2]}')\n"
      ],
      "metadata": {
        "id": "2VJaMi8sMNjf"
      },
      "execution_count": null,
      "outputs": []
    },
    {
      "cell_type": "code",
      "source": [
        "# Você recebeu um desafio de calcular a raiz quadrada de uma lista de números,\n",
        "# identificando quais resultaram em um número inteiro. A lista é a seguinte:\n",
        "\n",
        "from math import sqrt\n",
        "\n",
        "numeros = [2, 8, 15, 23, 91, 112, 256]\n",
        "\n",
        "raiz = []\n",
        "\n",
        "for numero in numeros:\n",
        "  raiz.append(sqrt(numero))\n",
        "\n",
        "for i in range(len(raiz)):\n",
        "\n",
        "  if raiz[i] // 1 == raiz[i]:\n",
        "\n",
        "    print(f\"O número {numeros[i]} possui raiz quadrada inteira igual a {int(raiz[i])}\")\n"
      ],
      "metadata": {
        "id": "tl6G5LWyRldI"
      },
      "execution_count": null,
      "outputs": []
    },
    {
      "cell_type": "code",
      "source": [
        "# 10. Faça um programa para uma loja que vende grama para jardins. Essa loja trabalha\n",
        "# com jardins circulares e o preço do metro quadrado da grama é de R$ 25,00. Peça à pessoa\n",
        "# usuária o raio da área circular e devolva o valor em reais do quanto precisará pagar.\n",
        "\n",
        "from math import pi, pow\n",
        "\n",
        "raio = float(input('Qual área circular em metros desejada'))\n",
        "\n",
        "area = pi*pow(raio,2)\n",
        "valor = area * 25.00\n",
        "\n",
        "print(f\"Você precisará pagar R$ {round(valor,2)} por uma área de {round(area,2)} metros de grama\")"
      ],
      "metadata": {
        "id": "T7TxCK5vTpWy"
      },
      "execution_count": null,
      "outputs": []
    },
    {
      "cell_type": "markdown",
      "source": [
        "# Built-in function"
      ],
      "metadata": {
        "id": "wqoySggB-Q63"
      }
    },
    {
      "cell_type": "code",
      "source": [
        "notas = {'1º Trimeste': 8.5, '2º Trimestre': 9.5, '3º Trimestre': 7}\n",
        "notas"
      ],
      "metadata": {
        "id": "oioPX_VQ-T4A"
      },
      "execution_count": null,
      "outputs": []
    },
    {
      "cell_type": "code",
      "source": [
        "soma = 0\n",
        "\n",
        "for nota in notas.values():\n",
        " soma += nota\n",
        "\n",
        "soma"
      ],
      "metadata": {
        "id": "IZa6oVdICwAx"
      },
      "execution_count": null,
      "outputs": []
    },
    {
      "cell_type": "code",
      "source": [
        "# Usando a função embutida sum()\n",
        "\n",
        "somatoria = sum(notas.values())\n",
        "somatoria"
      ],
      "metadata": {
        "id": "eJmbyljNDFR2"
      },
      "execution_count": null,
      "outputs": []
    },
    {
      "cell_type": "code",
      "source": [
        "# Usando a função embutida len()\n",
        "qtd_notas = len(notas)\n",
        "qtd_notas"
      ],
      "metadata": {
        "id": "JWFeE7hAD3tD"
      },
      "execution_count": null,
      "outputs": []
    },
    {
      "cell_type": "code",
      "source": [
        "# Calculo de media\n",
        "\n",
        "media = somatoria / qtd_notas\n",
        "media = round(media,1)\n",
        "media"
      ],
      "metadata": {
        "id": "6snXl3aLEf53"
      },
      "execution_count": null,
      "outputs": []
    },
    {
      "cell_type": "markdown",
      "source": [
        "# Criando funções\n",
        "\n",
        "def <nome>():\n",
        "    <instruções>"
      ],
      "metadata": {
        "id": "cFyr1rQnHg7U"
      }
    },
    {
      "cell_type": "code",
      "source": [
        "def media():\n",
        "  calculo = (10 + 9 + 8)  / 3\n",
        "  print(calculo)"
      ],
      "metadata": {
        "id": "rYgd9wQTHk5o"
      },
      "execution_count": null,
      "outputs": []
    },
    {
      "cell_type": "code",
      "source": [
        "media()"
      ],
      "metadata": {
        "id": "P_iaQIawE-CI"
      },
      "execution_count": null,
      "outputs": []
    },
    {
      "cell_type": "markdown",
      "source": [
        "# Funções com parâmetros\n",
        "\n",
        " def <nome>(<param_1>,\n",
        " <param_2>, ..., >param_n>):\n",
        "   <instruções>"
      ],
      "metadata": {
        "id": "UlKcQIwKIN0W"
      }
    },
    {
      "cell_type": "code",
      "source": [
        "def media(nota_1, nota_2, nota_3):\n",
        "  calculo = (nota_1 + nota_2 + nota_3) / 3\n",
        "  print(calculo)"
      ],
      "metadata": {
        "id": "guuHUtWqIO-6"
      },
      "execution_count": null,
      "outputs": []
    },
    {
      "cell_type": "code",
      "source": [
        "media( 3, 6, 9)"
      ],
      "metadata": {
        "id": "O6nEC_SaJANH"
      },
      "execution_count": null,
      "outputs": []
    },
    {
      "cell_type": "code",
      "source": [
        "nota1 = 8\n",
        "nota2 = 7\n",
        "nota3 = 6\n",
        "\n",
        "media(nota1, nota2, nota3)"
      ],
      "metadata": {
        "id": "fIPBdV7OJG_8"
      },
      "execution_count": null,
      "outputs": []
    },
    {
      "cell_type": "code",
      "source": [
        "# Notas do(a) estudante\n",
        "notas = [8.5, 9.0, 6.0, 10.0]"
      ],
      "metadata": {
        "id": "CVTJzaEDJlqI"
      },
      "execution_count": null,
      "outputs": []
    },
    {
      "cell_type": "code",
      "source": [
        "def media(lista):\n",
        "  calcular = sum(lista) / len(lista)\n",
        "  print(calcular)\n"
      ],
      "metadata": {
        "id": "I0c5bitVKRax"
      },
      "execution_count": null,
      "outputs": []
    },
    {
      "cell_type": "code",
      "source": [
        "media(notas)"
      ],
      "metadata": {
        "id": "a_dm8nvUKvF_"
      },
      "execution_count": null,
      "outputs": []
    },
    {
      "cell_type": "code",
      "source": [
        "# Notas do(a) estudante\n",
        "notas = [8.5, 9.0, 6.0, 10.0]\n",
        "\n",
        "def media(lista):\n",
        "  calculo = sum(lista) / len(lista)\n",
        "  return calculo"
      ],
      "metadata": {
        "id": "LZOmbbQZKy8E"
      },
      "execution_count": null,
      "outputs": []
    },
    {
      "cell_type": "code",
      "source": [
        "resultado = media(notas)\n",
        "\n",
        "resultado"
      ],
      "metadata": {
        "id": "2MXqed03NLe4"
      },
      "execution_count": null,
      "outputs": []
    },
    {
      "cell_type": "code",
      "source": [
        "  # Notas do(a) estudante\n",
        "notas = [6.0, 7.0, 9.0, 5.0]"
      ],
      "metadata": {
        "id": "pl7bhwP0NWeL"
      },
      "execution_count": null,
      "outputs": []
    },
    {
      "cell_type": "code",
      "source": [
        "def boletim(lista):\n",
        "    media = sum(lista) / len(lista)\n",
        "\n",
        "    if media >= 6:\n",
        "        situacao = \"Aprovado(a)\"\n",
        "    else:\n",
        "        situacao = \"Reprovado(a)\"\n",
        "\n",
        "    return (media, situacao)"
      ],
      "metadata": {
        "id": "UjYT4rMHNnBx"
      },
      "execution_count": null,
      "outputs": []
    },
    {
      "cell_type": "code",
      "source": [
        "boletim(notas)"
      ],
      "metadata": {
        "id": "5xwGd7Y3O1KL"
      },
      "execution_count": null,
      "outputs": []
    },
    {
      "cell_type": "code",
      "source": [
        "media, situacao = boletim(notas)\n",
        "\n"
      ],
      "metadata": {
        "id": "_2hBru_bSaBL"
      },
      "execution_count": null,
      "outputs": []
    },
    {
      "cell_type": "code",
      "source": [
        "media"
      ],
      "metadata": {
        "id": "eHg8j-EuTfFC"
      },
      "execution_count": null,
      "outputs": []
    },
    {
      "cell_type": "code",
      "source": [
        "situacao"
      ],
      "metadata": {
        "id": "hKfF9f0DThhH"
      },
      "execution_count": null,
      "outputs": []
    },
    {
      "cell_type": "code",
      "source": [
        "print(f'O(a) estudante atingiu uma média de {media} e foi {situacao}.')"
      ],
      "metadata": {
        "id": "RG0NplVKTkDU"
      },
      "execution_count": null,
      "outputs": []
    },
    {
      "cell_type": "markdown",
      "source": [
        "# Funções lambda"
      ],
      "metadata": {
        "id": "x_N_cBGfdt_U"
      }
    },
    {
      "cell_type": "code",
      "source": [
        "# Notas do(a) estudante\n",
        "notas = [6.0, 7.0, 9.0, 5.5, 8.0]\n",
        "qualitativo = 0.5"
      ],
      "metadata": {
        "id": "C3kRxniaTnDV"
      },
      "execution_count": null,
      "outputs": []
    },
    {
      "cell_type": "code",
      "source": [
        "notas_atualizadas = map(lambda x: x + qualitativo, notas)\n",
        "notas_atualizadas"
      ],
      "metadata": {
        "id": "4TTv7M8Id3k5"
      },
      "execution_count": null,
      "outputs": []
    },
    {
      "cell_type": "code",
      "source": [
        "notas_atualizadas = list(notas_atualizadas)\n",
        "notas_atualizadas"
      ],
      "metadata": {
        "id": "_WS23AkOetD-"
      },
      "execution_count": null,
      "outputs": []
    },
    {
      "cell_type": "markdown",
      "source": [
        "# Desafio: hora da prática"
      ],
      "metadata": {
        "id": "IcY3nvCWNpPU"
      }
    },
    {
      "cell_type": "code",
      "source": [
        "# 1. Escreva um código que lê a lista abaixo e faça:\n",
        "\n",
        "lista = [16, 14, 63, 65, 17, 99, 70, 11, 20, 48, 79, 32, 17, 89, 12, 25, 66]\n",
        "\n",
        "soma = sum(lista)\n",
        "tamnaho = len(lista)\n",
        "maior = max(lista)\n",
        "menor = min(lista)\n",
        "\n",
        "print(f'A lista possui {tamnaho} números em que o maior é {maior} e o menor númeero é {menor}. A soma dos valores presentes nela é igual a {soma} ')"
      ],
      "metadata": {
        "id": "F1ebSTL9NsP1"
      },
      "execution_count": null,
      "outputs": []
    },
    {
      "cell_type": "code",
      "source": [
        "# 2. Escreva uma função que gere a tabuada de um número inteiro de 1 a 10, de\n",
        "#acordo com a escolha da pessoa usuária. Como exemplo, para o número 7, a tabuada deve ser mostrada no seguinte formato:\n",
        "\n",
        "numero = int(input('Digite o número da tabuado da sua preferência 0 10 :'))\n",
        "\n",
        "def tabuada():\n",
        " for i in range(1,10):\n",
        "  multi = numero * i\n",
        "  print(f'{numero} x {i} = {multi}')\n",
        "\n",
        "tabuada()\n",
        "\n"
      ],
      "metadata": {
        "id": "b2sg_WglN-v_"
      },
      "execution_count": null,
      "outputs": []
    },
    {
      "cell_type": "code",
      "source": [
        "# 3. Crie a função que leia a lista abaixo e retorne uma nova lista com os múltiplos de 3:\n",
        "\n",
        "lista = [97, 80, 94, 88, 80, 1, 16, 53, 62, 32, 24, 99, 100]\n",
        "\n",
        "\n",
        "\n",
        "def multiplos():\n",
        "  lista_2 = []\n",
        "  for i in lista:\n",
        "    if i % 3 == 0:\n",
        "     lista_2.append(i)\n",
        "  return lista_2\n",
        "\n",
        "\n",
        "\n",
        "print(multiplos())\n",
        "\n"
      ],
      "metadata": {
        "id": "AKdFD9QbXawP"
      },
      "execution_count": null,
      "outputs": []
    },
    {
      "cell_type": "code",
      "source": [
        "# 4  Crie uma lista dos quadrados dos números da seguinte lista [1, 2, 3, 4, 5, 6, 7, 8, 9, 10].\n",
        "# Lembre-se de utilizar as funções lambda e map() para calcular o quadrado de cada elemento da lista.\n",
        "\n",
        "lista = [1, 2, 3, 4, 5, 6, 7, 8, 9, 10]\n",
        "\n",
        "nova_lista = []\n",
        "\n",
        "def quadrado():\n",
        "  calculo = list(map(lambda x: x**2, lista))\n",
        "  nova_lista.append(calculo)\n",
        "  return nova_lista\n",
        "\n",
        "print(quadrado())"
      ],
      "metadata": {
        "id": "t-x0YVNXGQmI"
      },
      "execution_count": null,
      "outputs": []
    },
    {
      "cell_type": "code",
      "source": [
        "# 5 - Para calcular a pontuação de um(a) skatista, você precisa eliminar a maior e\n",
        "# a menor pontuação dentre as 5 notas e tirar a média das 3 notas que sobraram.\n",
        "# Retorne a média para apresentar o texto:\n",
        "\n",
        "def notas():\n",
        "  notas_lista = []\n",
        "\n",
        "  for i in range(1,6):\n",
        "     nota = float(input(f'Nota {i} do(a) skatista: '))\n",
        "     notas_lista.append(nota)\n",
        "\n",
        "  maior = max(notas_lista)\n",
        "  notas_lista = [x for x in notas_lista if x != maior]\n",
        "\n",
        "  menor = min(notas_lista)\n",
        "  notas_lista = [x for x in notas_lista if x != menor]\n",
        "\n",
        "\n",
        "\n",
        "  return notas_lista\n",
        "\n",
        "\n",
        "notas()\n",
        "\n",
        "\n"
      ],
      "metadata": {
        "id": "WGCScqWBOpja"
      },
      "execution_count": null,
      "outputs": []
    },
    {
      "cell_type": "code",
      "source": [
        "# 6 - 6. Para atender a uma demanda de uma instituição de ensino para a análise\n",
        "# do desempenho de seus(suas) estudantes, você precisa criar uma função que receba\n",
        "# uma lista de 4 notas e retorne:\n",
        "\n",
        "# maior nota\n",
        "# menor nota\n",
        "# média\n",
        "# situação (Aprovado(a) ou Reprovado(a))\n",
        "\n",
        "def notas():\n",
        "  media = []\n",
        "  for i in range(1,5):\n",
        "    nota = float(input(f'Digite uma a nota {i} : '))\n",
        "    media.append(nota)\n",
        "\n",
        "  maior = max(media)\n",
        "  menor = min(media)\n",
        "  media = sum(media) / len(media)\n",
        "\n",
        "  if media >= 7:\n",
        "    situacao = ('Aprovado')\n",
        "  else:\n",
        "    situacao = ('Reprovado')\n",
        "\n",
        "  print(f'(a) estudante obteve uma média de {media}, com a sua maior nota de {maior} pontos e a menor nota de {menor} pontos e foi {situacao}')\n",
        "\n",
        "\n",
        "notas()\n"
      ],
      "metadata": {
        "id": "PwvspXJlRm5O"
      },
      "execution_count": null,
      "outputs": []
    },
    {
      "cell_type": "code",
      "source": [
        "#  7. Você recebeu uma demanda para tratar 2 listas com os nomes e sobrenomes de\n",
        "#  cada estudante concatenando-as para apresentar seus nomes completos na forma\n",
        "#  Nome Sobrenome. As listas são:\n",
        "\n",
        "nomes = [\"joão\", \"MaRia\", \"JOSÉ\"]\n",
        "sobrenomes = [\"SILVA\", \"souza\", \"Tavares\"]\n",
        "\n",
        "\n",
        "def nome_sobrenome():\n",
        "\n",
        "  nome_completo = list(map(lambda nomes, sobrenomes: f'{nomes.title()} {sobrenomes.title()}', nomes, sobrenomes))\n",
        "\n",
        "  for i in nome_completo:\n",
        "    print(f'Nome completo {i} ')\n",
        "\n",
        "nome_sobrenome()"
      ],
      "metadata": {
        "id": "aYbHZtt_WIr4"
      },
      "execution_count": null,
      "outputs": []
    },
    {
      "cell_type": "code",
      "source": [
        "# 8 - Escreva uma função chamada calcula_pontos que recebe como parâmetros duas\n",
        "#     listas de números inteiros, representando os gols marcados e sofridos pelo\n",
        "#     time em cada partida do campeonato. A função deve retornar a pontuação do\n",
        "#     time e o aproveitamento em percentual, levando em consideração que a vitória\n",
        "#     ale 3 pontos, o empate vale 1 ponto e a derrota 0 pontos.\n",
        "\n",
        "gols_marcados = [2, 1, 3, 1, 0]\n",
        "gols_sofridos = [1, 2, 2, 1, 3]\n",
        "\n",
        "def calcula_pontos():\n",
        "\n",
        "  pontos = 0\n",
        "\n",
        "  for a, b in zip(gols_marcados, gols_sofridos):\n",
        "    if a > b:\n",
        "      pontos += 3\n",
        "    elif a == b:\n",
        "      pontos += 1\n",
        "\n",
        "  aprove = 100 * pontos / (len(gols_marcados) * 3)\n",
        "  return(pontos, aprove)\n",
        "\n",
        "pontos, aprove = calcula_pontos()\n",
        "print(f\"A pontuação do time foi de {pontos} e seu aproveitamento foi de {round(aprove):.1f}%\")\n",
        "\n",
        "\n"
      ],
      "metadata": {
        "id": "HCiadrmgdAvU"
      },
      "execution_count": null,
      "outputs": []
    },
    {
      "cell_type": "code",
      "source": [
        "\n",
        "cidades = input('Informe seu destinos Salvador, Fortaleza, Natal e Aracaju: ')\n",
        "dias = int(input('Digite a quantidade de diarias, valor da diaria é 150: '))\n",
        "km_litro = 14\n",
        "gasolina = 5\n",
        "dispesas_dias = [200, 400, 250, 300]\n",
        "distancias = [850, 800, 300, 550]\n",
        "\n",
        "def gasto_hotel(dias):\n",
        "  return dias * 150\n",
        "\n",
        "def gasto_gasolina(cidade):\n",
        "  if cidades == 'Salvador':\n",
        "   return  (2 * distancias[0] * km_litro) / gasolina\n",
        "  elif cidades == 'Fortaleza':\n",
        "   return  (2 * distancias[1] * km_litro) / gasolina\n",
        "  elif cidades == 'Natal':\n",
        "   return  (2 * distancias[2] * km_litro) / gasolina\n",
        "  elif cidades == 'Aracaju':\n",
        "   return  (2 * distancias[3] * km_litro) / gasolina\n",
        "\n",
        "def gasto_passeio(cidade, dias):\n",
        "  if cidades == 'Salvador':\n",
        "    return dispesas_dias[0] * dias\n",
        "  elif cidades == 'Fortaleza':\n",
        "    return dispesas_dias[1] * dias\n",
        "  elif cidades == 'Natal':\n",
        "    return dispesas_dias[2] * dias\n",
        "  elif cidades == 'aracaju':\n",
        "    return dispesas_dias[3] * dias\n",
        "\n",
        "\n",
        "gastos = gasto_hotel(dias) + gasto_gasolina(cidades) + gasto_passeio(cidades, dias)\n",
        "\n",
        "print(f'Com base nos gastos definidos, uma viagem de {dias} dias para {cidades} saindo de Recife custaria {gastos} reais')\n"
      ],
      "metadata": {
        "id": "sHafVchGfJNO"
      },
      "execution_count": null,
      "outputs": []
    },
    {
      "cell_type": "code",
      "source": [
        "from re import X\n",
        "\n",
        "frase = input('Digite uma frase qualquer para analise NLP :')\n",
        "\n",
        "frase = frase.replace(',','').replace('.','').replace('!','').replace('?','').split()\n",
        "\n",
        "tamanho = list(filter(lambda x: len(x) >= 5, frase))\n",
        "\n",
        "print(tamanho)\n",
        "\n"
      ],
      "metadata": {
        "id": "lQw5BCwWEcGj"
      },
      "execution_count": null,
      "outputs": []
    },
    {
      "cell_type": "markdown",
      "source": [
        "\n",
        "# Lista de listas"
      ],
      "metadata": {
        "id": "7IZDBD97m3CZ"
      }
    },
    {
      "cell_type": "code",
      "source": [
        "notas_turma = ['João', 8.0, 9.0, 10.0, 'Maria', 9.0, 7.0, 6.0, 'José', 3.4, 7.0, 7.0, 'Cláudia', 5.5, 6.6, 8.0, 'Ana', 6.0, 10.0, 9.5]\n"
      ],
      "metadata": {
        "id": "pHdMzsZ8IZvx"
      },
      "execution_count": null,
      "outputs": []
    },
    {
      "cell_type": "code",
      "source": [
        "nomes = []\n",
        "notas_juntas = []\n",
        "\n",
        "for i in range(len(notas_turma)):\n",
        "  if i % 4 ==0:\n",
        "      nomes.append(notas_turma[i])\n",
        "  else:\n",
        "      notas_juntas.append(notas_turma[i])"
      ],
      "metadata": {
        "id": "yKZYZKEQIgB_"
      },
      "execution_count": null,
      "outputs": []
    },
    {
      "cell_type": "code",
      "source": [
        "notas_juntas"
      ],
      "metadata": {
        "id": "h5ufcyfDIi6b"
      },
      "execution_count": null,
      "outputs": []
    },
    {
      "cell_type": "code",
      "source": [
        "nomes"
      ],
      "metadata": {
        "id": "lcrgPtJnInBL"
      },
      "execution_count": null,
      "outputs": []
    },
    {
      "cell_type": "code",
      "source": [
        "notas = []\n",
        "\n",
        "for i in range(0, len(notas_juntas), 3):\n",
        "  notas.append([notas_juntas[i], notas_juntas[i+1], notas_juntas[i+2]])\n",
        "notas"
      ],
      "metadata": {
        "id": "gZDD98cLIxCL"
      },
      "execution_count": null,
      "outputs": []
    },
    {
      "cell_type": "code",
      "source": [
        "notas[0]"
      ],
      "metadata": {
        "id": "Bb3WJ9N5KtS5"
      },
      "execution_count": null,
      "outputs": []
    },
    {
      "cell_type": "code",
      "source": [
        "notas[0][2]"
      ],
      "metadata": {
        "id": "K3ATQx3jKqeT"
      },
      "execution_count": null,
      "outputs": []
    },
    {
      "cell_type": "code",
      "source": [
        "estudantes = [\"João\", \"Maria\", \"José\", \"Cláudia\", \"Ana\"]\n",
        "estudantes"
      ],
      "metadata": {
        "id": "SzlgUYUsPhhs"
      },
      "execution_count": null,
      "outputs": []
    },
    {
      "cell_type": "code",
      "source": [
        "from random import randint\n",
        "\n",
        "def gera_codigo():\n",
        "  return str(randint(0,999))"
      ],
      "metadata": {
        "id": "LEEbChobPkHW"
      },
      "execution_count": null,
      "outputs": []
    },
    {
      "cell_type": "code",
      "source": [
        "codigo_estudantes = []\n",
        "\n",
        "for i in range(len(estudantes)):\n",
        "  codigo_estudantes.append((estudantes[i], estudantes[i][0] + gera_codigo()))\n",
        "\n",
        "codigo_estudantes"
      ],
      "metadata": {
        "id": "xg1CdZywSNJi"
      },
      "execution_count": null,
      "outputs": []
    },
    {
      "cell_type": "code",
      "source": [
        "notas = [[8.0, 9.0, 10.0], [9.0, 7.0, 6.0], [3.4, 7.0, 7.0], [5.5, 6.6, 8.0], [6.0, 10.0, 9.5]]"
      ],
      "metadata": {
        "id": "MDLkJ4VBTpuC"
      },
      "execution_count": null,
      "outputs": []
    },
    {
      "cell_type": "code",
      "source": [
        "def media(lista: list=[0]) -> float:\n",
        "  ''' Função para calcular a média de notas passadas por uma lista\n",
        "\n",
        "  lista: list, default [0]\n",
        "    Lista com as notas para calcular a média\n",
        "  return = calculo: float\n",
        "    Média calculada\n",
        "  '''\n",
        "\n",
        "  calculo = sum(lista) / len(lista)\n",
        "\n",
        "  return calculo"
      ],
      "metadata": {
        "id": "okVELC0hTrqo"
      },
      "execution_count": null,
      "outputs": []
    },
    {
      "cell_type": "code",
      "source": [
        "medias = [round(media(nota),1) for nota in notas]\n",
        "medias"
      ],
      "metadata": {
        "id": "gVxHOzROT1jZ"
      },
      "execution_count": null,
      "outputs": []
    },
    {
      "cell_type": "code",
      "source": [
        "nomes = [('João', 'J720'), ('Maria', 'M205'), ('José', 'J371'), ('Cláudia', 'C546'), ('Ana', 'A347')]\n",
        "medias = [9.0, 7.3, 5.8, 6.7, 8.5]"
      ],
      "metadata": {
        "id": "fmt9PNtKVrGc"
      },
      "execution_count": null,
      "outputs": []
    },
    {
      "cell_type": "code",
      "source": [
        "lista_nomes = [nome[0] for nome in nomes]\n",
        "lista_nomes"
      ],
      "metadata": {
        "id": "IzdqKKRuVsBb"
      },
      "execution_count": null,
      "outputs": []
    },
    {
      "cell_type": "code",
      "source": [
        "estudantes = list(zip(nomes, medias))\n",
        "estudantes"
      ],
      "metadata": {
        "id": "pTGYgzTmXiaL"
      },
      "execution_count": null,
      "outputs": []
    },
    {
      "cell_type": "code",
      "source": [
        "candidatos = [estudante[0] for estudante in estudantes if estudante[1] >= 8]\n",
        "candidatos"
      ],
      "metadata": {
        "id": "pnCc0LGCXmio"
      },
      "execution_count": null,
      "outputs": []
    },
    {
      "cell_type": "markdown",
      "source": [],
      "metadata": {
        "id": "9ISNxytaIP0h"
      }
    },
    {
      "cell_type": "code",
      "source": [
        "notas = {'João': [8.0, 9.0, 10.0], 'Maria': [9.0, 7.0, 6.0], 'José': [3.4, 7.0, 8.0],'Cláudia': [5.5, 6.6, 8.0],\n",
        "         'Ana': [6.0, 10.0, 9.5], 'Joaquim': [5.5, 7.5, 9.0], 'Júlia': [6.0, 8.0, 7.0], 'Pedro': [3.0, 4.0, 6.0]}"
      ],
      "metadata": {
        "id": "U8_BK5U4m4Mc"
      },
      "execution_count": null,
      "outputs": []
    },
    {
      "cell_type": "code",
      "source": [
        "nome = input('Digite um nome do(a) estudante :')\n",
        "resultado = notas[nome]\n",
        "resultado"
      ],
      "metadata": {
        "id": "FteQZGExtN03"
      },
      "execution_count": null,
      "outputs": []
    },
    {
      "cell_type": "markdown",
      "source": [],
      "metadata": {
        "id": "zvRMaoA-suV9"
      }
    },
    {
      "cell_type": "markdown",
      "source": [
        "# Desafio: hora da prática"
      ],
      "metadata": {
        "id": "gd7Tp3FbnJQg"
      }
    },
    {
      "cell_type": "code",
      "source": [
        "# 1 - Crie um código para imprimir a soma dos elementos de cada uma das listas contidas na seguinte lista\n",
        "\n",
        "lista_de_listas = [[4,6,5,9], [1,0,7,2], [3,4,1,8]]\n",
        "\n",
        "for sublista in lista_de_listas:\n",
        "  print(sublista)"
      ],
      "metadata": {
        "id": "ztWQLLEVndd_"
      },
      "execution_count": null,
      "outputs": []
    },
    {
      "cell_type": "code",
      "source": [
        "# 2 - Crie um código para gerar uma lista que armazena o terceiro elemento de cada tupla contida na seguinte lista de tuplas:\n",
        "\n",
        "lista_de_tuplas = [('Pedro', 1.74, 81), ('Júlia', 1.65, 67), ('Otávio', 1.81, 83)]\n",
        "\n",
        "lista_tuplas = [tupla[2] for tupla in lista_de_tuplas]\n",
        "lista_tuplas\n"
      ],
      "metadata": {
        "id": "o1lI7fTVrjGB"
      },
      "execution_count": null,
      "outputs": []
    },
    {
      "cell_type": "code",
      "source": [
        "# 3. A partir da lista: lista = ['Pedro', 'Júlia', 'Otávio', 'Eduardo'], crie um\n",
        "# código para gerar uma lista de tuplas em que cada tupla tenha o primeiro elemento\n",
        "# como a posição do nome na lista original e o segundo elemento sendo o próprio nome.\n",
        "\n",
        "\n",
        "lista = ['Pedro', 'Júlia', 'Otávio', 'Eduardo']\n",
        "\n",
        "\n",
        "lista_de_tuplas = []\n",
        "\n",
        "for i in range(len(lista)):\n",
        "  lista_de_tuplas.append((i, lista[i]))\n",
        "\n",
        "print(lista_de_tuplas)\n"
      ],
      "metadata": {
        "id": "A5BOnl3AyhCE"
      },
      "execution_count": null,
      "outputs": []
    },
    {
      "cell_type": "code",
      "source": [
        "#  4. Crie uma lista usando o list comprehension que armazena somente o valor numérico\n",
        "#  e cada tupla caso o primeiro elemento seja 'Apartamento', a partir da seguinte lista de tuplas:\n",
        "\n",
        "aluguel = [('Apartamento', 1700), ('Apartamento', 1400), ('Casa', 2150), ('Apartamento', 1900), ('Casa', 1100)]\n",
        "\n",
        "lista = [tupla[1] for tupla in aluguel if tupla[0] == 'Apartamento']\n",
        "\n",
        "print(lista)\n"
      ],
      "metadata": {
        "id": "UHxP38m88-sv"
      },
      "execution_count": null,
      "outputs": []
    },
    {
      "cell_type": "code",
      "source": [
        "#  6. Uma loja possui um banco de dados com a informação de venda de cada representante\n",
        "#  e de cada ano e precisa filtrar somente os dados do ano 2022 com venda maior do que 6000.\n",
        "#  A loja forneceu uma amostra contendo apenas as colunas com os anos e os valores de venda\n",
        "#  para que você ajude a realizar a filtragem dos dados a partir de um código:\n",
        "\n",
        "vendas = [('2023', 4093), ('2021', 4320), ('2021', 5959), ('2022', 8883), ('2023', 9859),\n",
        "          ('2022', 5141), ('2022', 7688), ('2022', 9544), ('2023', 4794), ('2021', 7178),\n",
        "          ('2022', 3030), ('2021', 7471), ('2022', 4226), ('2022', 8190), ('2021', 9680),\n",
        "          ('2022', 5616)]\n",
        "\n",
        "lista = [valores[1] for valores in vendas if valores[0] == '2022' and valores[1] >= 6000]\n",
        "\n",
        "print(lista)\n"
      ],
      "metadata": {
        "id": "MFSkM3882nvl"
      },
      "execution_count": null,
      "outputs": []
    },
    {
      "cell_type": "markdown",
      "source": [],
      "metadata": {
        "id": "EJqOwoOm9MRI"
      }
    },
    {
      "cell_type": "code",
      "source": [
        "#  8. Um e-commerce possui as informações de id de venda, quantidade vendida e\n",
        "#  preço do produto divididos nas seguintes listas:\n",
        "\n",
        "#  Crie uma lista de tuplas em que cada tupla tenha id, quantidade, preço e valor\n",
        "#  total, na qual a primeira tupla é o cabeçalho da tabela.\n",
        "\n",
        "id = [0, 1, 2, 3, 4, 5, 6, 7, 8, 9]\n",
        "quantidade = [15, 12, 1, 15, 2, 11, 2, 12, 2, 4]\n",
        "preco = [93.0, 102.0, 18.0, 41.0, 122.0, 14.0, 71.0, 48.0, 14.0, 144.0]\n",
        "\n",
        "#  8. Um e-commerce possui as informações de id de venda, quantidade vendida e\n",
        "#  preço do produto divididos nas seguintes listas:\n",
        "\n",
        "#  Crie uma lista de tuplas em que cada tupla tenha id, quantidade, preço e valor\n",
        "#  total, na qual a primeira tupla é o cabeçalho da tabela.\n",
        "\n",
        "id = [0, 1, 2, 3, 4, 5, 6, 7, 8, 9]\n",
        "quantidade = [15, 12, 1, 15, 2, 11, 2, 12, 2, 4]\n",
        "preco = [93.0, 102.0, 18.0, 41.0, 122.0, 14.0, 71.0, 48.0, 14.0, 144.0]\n",
        "\n",
        "\n",
        "\n",
        "lista = [(id[i], quantidade[i], preco[i], quantidade[i] * preco[i]) for i in range(len(quantidade))]\n",
        "lista = lista\n",
        "\n",
        "print(lista)\n"
      ],
      "metadata": {
        "id": "wK2KO0R-5CeS"
      },
      "execution_count": null,
      "outputs": []
    },
    {
      "cell_type": "code",
      "source": [
        "#  9 - A partir da coluna com a informação dos Estados, crie um dicionário usando\n",
        "#  dict comprehension com a chave sendo o nome de um Estado e o valor sendo a\n",
        "#  contagem de vezes em que o Estado aparece na lista.\n",
        "\n",
        "\n",
        "estados = ['SP', 'ES', 'MG', 'MG', 'SP', 'MG', 'ES', 'ES', 'ES', 'SP', 'SP', 'MG', 'ES', 'SP', 'RJ', 'MG', 'RJ', 'SP', 'MG', 'SP', 'ES', 'SP', 'MG']\n",
        "\n",
        "contagem_estados = {estado: estados.count(estado) for estado in estados}\n",
        "\n",
        "print(contagem_estados)\n",
        "\n"
      ],
      "metadata": {
        "id": "YZOLOL9qCo8v"
      },
      "execution_count": null,
      "outputs": []
    },
    {
      "cell_type": "code",
      "source": [
        "#   10 A partir da lista de tuplas, crie um dicionário em que as chaves são os nomes\n",
        "#   dos Estados únicos e os valores são as listas com o número de colaboradores(as)\n",
        "#   referentes ao Estado. Crie também um dicionário em que as chaves são os nomes\n",
        "#   dos Estados e os valores são a soma de colaboradores(as) por Estado.\n",
        "\n",
        "\n",
        "funcionarios = [('SP', 16), ('ES', 8), ('MG', 9),  ('MG',  6), ('SP', 10), ('MG',  4),\n",
        "                ('ES', 9),  ('ES', 7), ('ES', 12), ('SP',  7), ('SP', 11), ('MG',  8),\n",
        "                ('ES', 8),  ('SP', 9), ('RJ', 13), ('MG',  5), ('RJ',  9), ('SP', 12),\n",
        "                ('MG', 10), ('SP', 7), ('ES', 14), ('SP', 10), ('MG',  12)]\n",
        "\n",
        "estados_unicos = list(set([tupla[0] for tupla in funcionarios]))\n",
        "\n",
        "lista_de_listas = []\n",
        "for estado in estados_unicos:\n",
        "    lista = [tupla[1] for tupla in funcionarios if tupla[0] == estado]\n",
        "    lista_de_listas.append(lista)\n",
        "print(lista_de_listas)\n",
        "\n",
        "agrupamento_por_estado = {estados_unicos[i]: lista_de_listas[i] for i in range(len(estados_unicos))}\n",
        "print(agrupamento_por_estado)\n",
        "\n",
        "soma_por_estado = {estados_unicos[i]: sum(lista_de_listas[i]) for i in range(len(estados_unicos))}\n",
        "print(soma_por_estado)"
      ],
      "metadata": {
        "id": "4oBtvdaqJVgi"
      },
      "execution_count": null,
      "outputs": []
    },
    {
      "cell_type": "markdown",
      "source": [],
      "metadata": {
        "id": "sga4_WImnMgk"
      }
    },
    {
      "cell_type": "markdown",
      "source": [
        "Tratando exceções"
      ],
      "metadata": {
        "id": "v0BGJA4MKJMG"
      }
    },
    {
      "cell_type": "code",
      "source": [
        "from logging import exception\n",
        "try:\n",
        "  nome = input('Digite um nome do(a) estudante')\n",
        "  resultado = notas[nome]\n",
        "except Exception as e:\n",
        "  print(type(e), f'erro {e}')"
      ],
      "metadata": {
        "id": "hKHyhsYwrtNN"
      },
      "execution_count": null,
      "outputs": []
    },
    {
      "cell_type": "code",
      "source": [
        "from logging import exception\n",
        "try:\n",
        "  nome = input('Digite um nome do(a) estudante')\n",
        "  resultado = notas[nome]\n",
        "except KeyError:\n",
        "  print('Estudate não matriculado(a) na turma')\n",
        "else:\n",
        "  print(resultado)\n",
        "finally:\n",
        "  print('Consulta foi encerrada!')"
      ],
      "metadata": {
        "id": "EJf75fsOt0FZ"
      },
      "execution_count": null,
      "outputs": []
    },
    {
      "cell_type": "code",
      "source": [
        "def media(lista: list=[0]) -> float:\n",
        "  \"\"\"\n",
        "  Calcula a média dos valores em uma lista.\n",
        "\n",
        "  Args:\n",
        "    lista: Uma lista de números.\n",
        "\n",
        "  Returns:\n",
        "    A média dos valores na lista.\n",
        "  \"\"\"\n",
        "  calculo = sum(lista) / len(lista)\n",
        "\n",
        "  if len(lista) > 4:\n",
        "      raise ValueError(\"A lista não pode possuir mais de 4 notas.\")\n",
        "\n",
        "  return calculo"
      ],
      "metadata": {
        "id": "WdYhtrrgvhkv"
      },
      "execution_count": null,
      "outputs": []
    },
    {
      "cell_type": "code",
      "source": [
        "notas = [6, 7, 8, 8, 9]\n",
        "resultado = media(notas)\n",
        "resultado"
      ],
      "metadata": {
        "id": "Wj9AtRKI1KzV"
      },
      "execution_count": null,
      "outputs": []
    },
    {
      "cell_type": "markdown",
      "source": [],
      "metadata": {
        "id": "JhVwETS5nBa3"
      }
    },
    {
      "cell_type": "code",
      "source": [
        "try:\n",
        "  notas = [6, 7, 8, 8, 9, '8']\n",
        "  resultado = media(notas)\n",
        "except TypeError:\n",
        "  print('Não foi possível calcular a média do(a) estudante. Só são aceitos valores numéricos!')\n",
        "except ValueError as e:\n",
        "  print(e)\n",
        "else:\n",
        "  print(resultado)\n",
        "finally:\n",
        "  print('Consulta finalizada')\n"
      ],
      "metadata": {
        "id": "9-70FAVw2hxb"
      },
      "execution_count": null,
      "outputs": []
    },
    {
      "cell_type": "code",
      "source": [
        "try:\n",
        "  notas = [6, 7, 8, 8, 9]\n",
        "  resultado = media(notas)\n",
        "except TypeError:\n",
        "  print('Não foi possível calcular a média do(a) estudante. Só são aceitos valores numéricos!')\n",
        "except ValueError as e:\n",
        "  print(e)\n",
        "else:\n",
        "  print(resultado)\n",
        "finally:\n",
        "  print('Consulta finalizada')\n"
      ],
      "metadata": {
        "id": "sV_pzxhW23AV"
      },
      "execution_count": null,
      "outputs": []
    },
    {
      "cell_type": "code",
      "source": [
        "try:\n",
        "  notas = [6, 7, 8, 8]\n",
        "  resultado = media(notas)\n",
        "except TypeError:\n",
        "  print('Não foi possível calcular a média do(a) estudante. Só são aceitos valores numéricos!')\n",
        "except ValueError as e:\n",
        "  print(e)\n",
        "else:\n",
        "  print(resultado)\n",
        "finally:\n",
        "  print('Consulta finalizada')\n"
      ],
      "metadata": {
        "id": "PypIGTlv4mvg"
      },
      "execution_count": null,
      "outputs": []
    },
    {
      "cell_type": "markdown",
      "source": [
        "# Desafio: hora da prática"
      ],
      "metadata": {
        "id": "b6atNkridTdA"
      }
    },
    {
      "cell_type": "code",
      "source": [
        "# 1. Faça um programa que solicite à pessoa usuária digitar dois números float e\n",
        "# calcular a divisão entre esses números. O código deve conter um tratamento de\n",
        "# erro, indicando o tipo de erro que foi gerado caso a divisão não seja possível de realizar.\n",
        "\n",
        "try:\n",
        "   num1 = float(input('Digite primeiro número :'))\n",
        "   num2 = float(input('Digite segundo número :'))\n",
        "   divisão = num1 / num2\n",
        "except Exception as e:\n",
        "   print(type(e), (f'erro: {e}'))\n",
        "\n"
      ],
      "metadata": {
        "id": "l7m34gAedUDO"
      },
      "execution_count": null,
      "outputs": []
    },
    {
      "cell_type": "code",
      "source": [
        "#  2. Faça um programa que solicite à pessoa usuária digitar um texto que será\n",
        "# uma chave a ser pesquisada no seguinte dicionário: idades\n",
        "# = {'Júlia': 16, 'Carol': 23, 'Alberto': 19, 'Roberta': 17},\n",
        "# armazenando o resultado do valor em uma variável. O código deve conter um tratamento\n",
        "# de erro KeyError, imprimindo a informação 'Nome não encontrado', caso ocorra o erro;\n",
        "# e imprimir o valor caso não ocorra nenhum.\n",
        "\n",
        "try:\n",
        "  chave = input()\n",
        "  idades = {'Júlia': 16, 'Carol': 23, 'Alberto': 19, 'Roberta': 17}\n",
        "  valor = idades[chave]\n",
        "except KeyError:\n",
        "  print(\"Não encontrado\")\n",
        "else:\n",
        "  print(valor)\n",
        "\n"
      ],
      "metadata": {
        "id": "v-qS6iC5inqs"
      },
      "execution_count": null,
      "outputs": []
    },
    {
      "cell_type": "code",
      "source": [
        "#  3. Crie uma função que recebe uma lista como parâmetro e converta todos os\n",
        "#  valores da lista para float. A função deve conter um tratamento de erro indicando\n",
        "#  o tipo de erro gerado e retornar a lista caso não tenha ocorrido nenhum erro.\n",
        "#  Por fim, deve ter a cláusula finally para imprimir o texto: 'Fim da execução da função'.\n",
        "\n",
        "lista = [1,'a',2]\n",
        "\n",
        "def converte_lista(lista):\n",
        "    try:\n",
        "        nova_lista = [float(elemento) for elemento in lista]\n",
        "    except Exception as e:\n",
        "        print(type(e), f'Erro: {e}')\n",
        "    else:\n",
        "        return nova_lista\n",
        "    finally:\n",
        "        print('Fim da execução da função')\n",
        "\n",
        "resultado = converte_lista(lista)\n",
        "print(\"Resultado:\", resultado)\n"
      ],
      "metadata": {
        "id": "OrApT91skEGh"
      },
      "execution_count": null,
      "outputs": []
    },
    {
      "cell_type": "code",
      "source": [
        "#  4. Crie uma função que recebe duas listas como parâmetros e agrupe os elementos\n",
        "#  um a um das listas, formando uma lista de tuplas de 3 elementos, no qual o\n",
        "#  primeiro e segundo elemento da tupla são os valores na posição i das listas\n",
        "#  e o terceiro elemento é a soma dos valores na posição i das listas.\n",
        "\n",
        "lista1 = [4,6,7,9,'A']\n",
        "lista2 = [-4,'E',8,7,9]\n",
        "\n",
        "def soma_listas(lista1, lista2):\n",
        "    try:\n",
        "        if len(lista1) == len(lista2):\n",
        "            dados = [(lista1[i], lista2[i], lista1[i]+lista2[i]) for i in range(len(lista1))]\n",
        "        else:\n",
        "            raise IndexError('A quantidade de elementos em cada lista é diferente.')\n",
        "    except Exception as e:\n",
        "        print(type(e), f'Erro: {e}')\n",
        "    else:\n",
        "        return dados\n",
        "\n",
        "resultado = soma_listas(lista1, lista2)\n",
        "print(\"Resultado:\", resultado)"
      ],
      "metadata": {
        "id": "oJsXzt8So4ZQ"
      },
      "execution_count": null,
      "outputs": []
    },
    {
      "cell_type": "markdown",
      "source": [
        "# Nova seção"
      ],
      "metadata": {
        "id": "kal8qkLEtblP"
      }
    },
    {
      "cell_type": "code",
      "source": [],
      "metadata": {
        "id": "5SIQFx3ur2sS"
      },
      "execution_count": null,
      "outputs": []
    }
  ]
}