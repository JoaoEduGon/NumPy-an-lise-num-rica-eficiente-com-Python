{
  "nbformat": 4,
  "nbformat_minor": 0,
  "metadata": {
    "colab": {
      "provenance": []
    },
    "kernelspec": {
      "name": "python3",
      "display_name": "Python 3"
    },
    "language_info": {
      "name": "python"
    }
  },
  "cells": [
    {
      "cell_type": "markdown",
      "source": [
        "# Exercícios Seção 01. Conhecendo a biblioteca e nossos dados"
      ],
      "metadata": {
        "id": "1Oy9iZqKTYAP"
      }
    },
    {
      "cell_type": "markdown",
      "source": [
        "Chegou a hora de você testar os conhecimentos desenvolvidos durante a aula. Para isso, vamos utilizar outro dataset em um desafio que será desenvolvido no decorrer do curso. Esse dataset é uma versão modificada do arquivo Oranges vs. Grapefruit presente no site do Kaggle. Portanto, utilizaremos o arquivo raw disponível no GitHub.\n",
        "\n",
        "Nessa etapa, você deve efetuar a leitura dos dados. Para isso, importe a NumPy e use a função loadtxt. Use o link da url e o parâmetro usecols para pular a primeira coluna. É possível usar np.arange para criar a sequência de números que representam as colunas. Por fim, também é necessário incluir o parâmetro skiprows=1 para que a primeira linha de texto seja desconsiderada na leitura do arquivo.."
      ],
      "metadata": {
        "id": "cj861qS_TaNA"
      }
    },
    {
      "cell_type": "code",
      "execution_count": null,
      "metadata": {
        "colab": {
          "base_uri": "https://localhost:8080/"
        },
        "id": "-Lt1QU5zStZU",
        "outputId": "538084b9-09a2-47f0-dff7-333ac727d01b"
      },
      "outputs": [
        {
          "output_type": "stream",
          "name": "stdout",
          "text": [
            "2\n",
            "(10000, 5)\n",
            "50000\n"
          ]
        }
      ],
      "source": [
        "url = 'https://raw.githubusercontent.com/allanspadini/numpy/dados/citrus.csv'\n",
        "import numpy as np\n",
        "import matplotlib.pyplot as plt\n",
        "dados = np.loadtxt(url, delimiter=',',skiprows=1,usecols=np.arange(1, 6))\n",
        "print(dados.ndim)\n",
        "print(dados.shape)\n",
        "print(dados.size)"
      ]
    },
    {
      "cell_type": "code",
      "source": [],
      "metadata": {
        "id": "WcPF-KMij4yw"
      },
      "execution_count": null,
      "outputs": []
    },
    {
      "cell_type": "markdown",
      "source": [
        "# Exercícios Seção 02. Exploração dos dados"
      ],
      "metadata": {
        "id": "B833TXlHUNQc"
      }
    },
    {
      "cell_type": "markdown",
      "source": [
        "Chegou a hora de você testar os conhecimentos desenvolvidos durante a aula. Continuando com o projeto das laranjas/toranjas agora você deve selecionar parte dos dados. As colunas que iremos avaliar são as de diâmetro e peso. Crie arrays específicos para guardar o diâmetro e peso da laranja e toranja. O diâmetro está na coluna zero e o peso na coluna 1. Os dados referentes a laranja vão até a linha 4999 e os referentes à toranja iniciam na linha 5000 do arquivo.\n",
        "\n",
        "Após fazer a seleção de dados, importe a biblioteca matplotlib e crie um gráfico para a laranja e para a toranja do peso pelo diâmetro"
      ],
      "metadata": {
        "id": "Ridi9Y1FUPwa"
      }
    },
    {
      "cell_type": "code",
      "source": [
        "diametro_orange = dados[:5000,0]\n",
        "diametro_toranja =  dados[5000: ,0]\n",
        "peso_orange = dados[:5000,1]\n",
        "peso_toranja = dados[5000:,1]"
      ],
      "metadata": {
        "id": "gIiR-bLiS7gf"
      },
      "execution_count": null,
      "outputs": []
    },
    {
      "cell_type": "code",
      "source": [
        "diametro_orange"
      ],
      "metadata": {
        "colab": {
          "base_uri": "https://localhost:8080/"
        },
        "id": "FxuaTExgS9IQ",
        "outputId": "ac5e0df7-78ec-428a-fe7e-044fef072bfa"
      },
      "execution_count": null,
      "outputs": [
        {
          "output_type": "execute_result",
          "data": {
            "text/plain": [
              "array([ 2.96,  3.91,  4.42, ..., 12.55, 12.75, 12.87])"
            ]
          },
          "metadata": {},
          "execution_count": 29
        }
      ]
    },
    {
      "cell_type": "code",
      "source": [
        "diametro_toranja"
      ],
      "metadata": {
        "colab": {
          "base_uri": "https://localhost:8080/"
        },
        "id": "i41XzPmzS-di",
        "outputId": "5bf400df-40d6-4352-88ef-b70783260b5b"
      },
      "execution_count": null,
      "outputs": [
        {
          "output_type": "execute_result",
          "data": {
            "text/plain": [
              "array([ 7.63,  7.69,  7.72, ..., 15.59, 15.92, 16.45])"
            ]
          },
          "metadata": {},
          "execution_count": 30
        }
      ]
    },
    {
      "cell_type": "code",
      "source": [
        "peso_orange"
      ],
      "metadata": {
        "colab": {
          "base_uri": "https://localhost:8080/"
        },
        "id": "RbNMHYNRS_6O",
        "outputId": "ed77bc4b-39e2-4100-f499-6d99da30a9a4"
      },
      "execution_count": null,
      "outputs": [
        {
          "output_type": "execute_result",
          "data": {
            "text/plain": [
              "array([ 86.76,  88.05,  95.17, ..., 218.07, 230.13, 231.09])"
            ]
          },
          "metadata": {},
          "execution_count": 31
        }
      ]
    },
    {
      "cell_type": "code",
      "source": [
        "peso_toranja"
      ],
      "metadata": {
        "colab": {
          "base_uri": "https://localhost:8080/"
        },
        "id": "J8LsqBjvTA2I",
        "outputId": "06a55788-8368-4623-f040-92ff63ce5b76"
      },
      "execution_count": null,
      "outputs": [
        {
          "output_type": "execute_result",
          "data": {
            "text/plain": [
              "array([126.79, 133.98, 135.56, ..., 256.5 , 260.14, 261.51])"
            ]
          },
          "metadata": {},
          "execution_count": 32
        }
      ]
    },
    {
      "cell_type": "code",
      "source": [
        "plt.plot(diametro_orange,peso_orange)"
      ],
      "metadata": {
        "colab": {
          "base_uri": "https://localhost:8080/",
          "height": 448
        },
        "id": "u6v3JfkVTGDj",
        "outputId": "0aea9d92-2252-4871-a56b-903065a01912"
      },
      "execution_count": null,
      "outputs": [
        {
          "output_type": "execute_result",
          "data": {
            "text/plain": [
              "[<matplotlib.lines.Line2D at 0x797f15899510>]"
            ]
          },
          "metadata": {},
          "execution_count": 33
        },
        {
          "output_type": "display_data",
          "data": {
            "text/plain": [
              "<Figure size 640x480 with 1 Axes>"
            ],
            "image/png": "[encoded data removed]"
          },
          "metadata": {}
        }
      ]
    },
    {
      "cell_type": "code",
      "source": [
        "plt.plot(diametro_toranja,peso_toranja)"
      ],
      "metadata": {
        "colab": {
          "base_uri": "https://localhost:8080/",
          "height": 448
        },
        "id": "uG08JB91TJcC",
        "outputId": "906e6850-111f-43d6-8627-0e2798a2392f"
      },
      "execution_count": null,
      "outputs": [
        {
          "output_type": "execute_result",
          "data": {
            "text/plain": [
              "[<matplotlib.lines.Line2D at 0x797f156710d0>]"
            ]
          },
          "metadata": {},
          "execution_count": 34
        },
        {
          "output_type": "display_data",
          "data": {
            "text/plain": [
              "<Figure size 640x480 with 1 Axes>"
            ],
            "image/png": "[encoded data removed]"
          },
          "metadata": {}
        }
      ]
    },
    {
      "cell_type": "code",
      "source": [
        "x = diametro_orange\n",
        "x = diametro_toranja"
      ],
      "metadata": {
        "id": "0baUS-uoXdIn"
      },
      "execution_count": null,
      "outputs": []
    },
    {
      "cell_type": "code",
      "source": [
        "y = 14.83*x+16"
      ],
      "metadata": {
        "id": "oP-3G_3_X6r6"
      },
      "execution_count": null,
      "outputs": []
    },
    {
      "cell_type": "code",
      "source": [
        "plt.plot(diametro_orange,peso_orange)\n",
        "plt.plot(diametro_toranja,peso_toranja)\n",
        "plt.plot(x,y)"
      ],
      "metadata": {
        "colab": {
          "base_uri": "https://localhost:8080/",
          "height": 448
        },
        "id": "pNFJEGXWX__X",
        "outputId": "4a9fda74-43ae-4d08-c117-372f7d800bf7"
      },
      "execution_count": null,
      "outputs": [
        {
          "output_type": "execute_result",
          "data": {
            "text/plain": [
              "[<matplotlib.lines.Line2D at 0x797f154ec650>]"
            ]
          },
          "metadata": {},
          "execution_count": 37
        },
        {
          "output_type": "display_data",
          "data": {
            "text/plain": [
              "<Figure size 640x480 with 1 Axes>"
            ],
            "image/png": "[encoded data removed]"
          },
          "metadata": {}
        }
      ]
    },
    {
      "cell_type": "code",
      "source": [
        "np.sqrt(np.sum(np.power(diametro_orange-y,2)))"
      ],
      "metadata": {
        "colab": {
          "base_uri": "https://localhost:8080/"
        },
        "id": "EqmduQvbZG3G",
        "outputId": "1c839128-f398-461c-a34a-4f05aaca2432"
      },
      "execution_count": null,
      "outputs": [
        {
          "output_type": "execute_result",
          "data": {
            "text/plain": [
              "np.float64(12623.660007873797)"
            ]
          },
          "metadata": {},
          "execution_count": 38
        }
      ]
    },
    {
      "cell_type": "code",
      "source": [
        "np.sqrt(np.sum(np.power(diametro_toranja-y,2)))"
      ],
      "metadata": {
        "colab": {
          "base_uri": "https://localhost:8080/"
        },
        "id": "S56gZwWLZLpX",
        "outputId": "80b70bc4-c42c-492f-ce0d-cfe4ecef80ab"
      },
      "execution_count": null,
      "outputs": [
        {
          "output_type": "execute_result",
          "data": {
            "text/plain": [
              "np.float64(12412.573372951327)"
            ]
          },
          "metadata": {},
          "execution_count": 39
        }
      ]
    },
    {
      "cell_type": "code",
      "source": [
        "np.linalg.norm(diametro_orange-y)"
      ],
      "metadata": {
        "colab": {
          "base_uri": "https://localhost:8080/"
        },
        "id": "lSvaZ4AjZPeP",
        "outputId": "a5eb06f4-bdf3-4b5d-c8ac-8183d0deae82"
      },
      "execution_count": null,
      "outputs": [
        {
          "output_type": "execute_result",
          "data": {
            "text/plain": [
              "np.float64(12623.660007873797)"
            ]
          },
          "metadata": {},
          "execution_count": 40
        }
      ]
    },
    {
      "cell_type": "code",
      "source": [
        "np.linalg.norm(diametro_toranja-y)"
      ],
      "metadata": {
        "colab": {
          "base_uri": "https://localhost:8080/"
        },
        "id": "MG5ePk93ZTjH",
        "outputId": "36ae39dc-4a0b-450c-93fc-f6de0bf6b00b"
      },
      "execution_count": null,
      "outputs": [
        {
          "output_type": "execute_result",
          "data": {
            "text/plain": [
              "np.float64(12412.573372951329)"
            ]
          },
          "metadata": {},
          "execution_count": 41
        }
      ]
    },
    {
      "cell_type": "markdown",
      "source": [
        "# Exercícios Seção 03. Operações entre arrays\n",
        "\n",
        "Chegou a hora de você testar os conhecimentos desenvolvidos durante a aula. Continuando com o projeto das laranjas/toranjas agora você deve calcular o coeficiente ângular e o linear para a reta da laranja e para a reta da toranja. Use a fórmula de mínimos quadrados para encontrar cada um."
      ],
      "metadata": {
        "id": "fEstqqCNb7r4"
      }
    },
    {
      "cell_type": "code",
      "source": [
        "Y1 = peso_orange\n",
        "X1 = diametro_orange\n",
        "n1 = np.size(peso_orange)"
      ],
      "metadata": {
        "id": "iGupSC8qbTAS"
      },
      "execution_count": null,
      "outputs": []
    },
    {
      "cell_type": "code",
      "source": [
        "a1 = (n1*np.sum(X1*Y1) - np.sum(X1)*np.sum(Y1))/(n1*np.sum(X1**2)-np.sum(X1)**2)"
      ],
      "metadata": {
        "id": "XRj-wZ30b0wQ"
      },
      "execution_count": null,
      "outputs": []
    },
    {
      "cell_type": "code",
      "source": [
        "b1 = np.mean(Y1) - a1*np.mean(X1)"
      ],
      "metadata": {
        "id": "ryT0uKLwb1cQ"
      },
      "execution_count": null,
      "outputs": []
    },
    {
      "cell_type": "code",
      "source": [
        "y1 = a1*X1+b1"
      ],
      "metadata": {
        "id": "b-URo8c2fF7J"
      },
      "execution_count": null,
      "outputs": []
    },
    {
      "cell_type": "code",
      "source": [
        "from re import M\n",
        "np.linalg.norm(peso_orange-y)"
      ],
      "metadata": {
        "colab": {
          "base_uri": "https://localhost:8080/"
        },
        "id": "kSKqJo71gct6",
        "outputId": "eda5604d-f62a-46d9-8783-a9b6ec9df6f9"
      },
      "execution_count": null,
      "outputs": [
        {
          "output_type": "execute_result",
          "data": {
            "text/plain": [
              "np.float64(2362.229729824826)"
            ]
          },
          "metadata": {},
          "execution_count": 46
        }
      ]
    },
    {
      "cell_type": "code",
      "source": [
        "plt.plot(diametro_orange,peso_orange)\n",
        "plt.plot(X1,y1)\n",
        "plt.legend(['Peso orange', 'Previsão crescimento orange'])"
      ],
      "metadata": {
        "colab": {
          "base_uri": "https://localhost:8080/",
          "height": 448
        },
        "id": "5ZlDOSkab9-q",
        "outputId": "e2641c37-5eb6-40b8-a088-20c9978c5f43"
      },
      "execution_count": null,
      "outputs": [
        {
          "output_type": "execute_result",
          "data": {
            "text/plain": [
              "<matplotlib.legend.Legend at 0x797f154e9c50>"
            ]
          },
          "metadata": {},
          "execution_count": 47
        },
        {
          "output_type": "display_data",
          "data": {
            "text/plain": [
              "<Figure size 640x480 with 1 Axes>"
            ],
            "image/png": "[encoded data removed]"
          },
          "metadata": {}
        }
      ]
    },
    {
      "cell_type": "code",
      "source": [
        "Y2 = peso_toranja\n",
        "X2 = diametro_toranja\n",
        "n2 = np.size(peso_toranja)"
      ],
      "metadata": {
        "id": "JpPTrmsbfKuv"
      },
      "execution_count": null,
      "outputs": []
    },
    {
      "cell_type": "code",
      "source": [
        "a2 = (n2*np.sum(X2*Y2) - np.sum(X2)*np.sum(Y2))/(n2*np.sum(X2**2)-np.sum(X2)**2)"
      ],
      "metadata": {
        "id": "tbEXWzaIfiqh"
      },
      "execution_count": null,
      "outputs": []
    },
    {
      "cell_type": "code",
      "source": [
        "b2 = np.mean(Y2) - a2*np.mean(X2)"
      ],
      "metadata": {
        "id": "2OhaD9Ndfl-V"
      },
      "execution_count": null,
      "outputs": []
    },
    {
      "cell_type": "code",
      "source": [
        "y2 = a2*X2+b2"
      ],
      "metadata": {
        "id": "lqGsQGTJfmyh"
      },
      "execution_count": null,
      "outputs": []
    },
    {
      "cell_type": "code",
      "source": [
        "from re import M\n",
        "np.linalg.norm(peso_toranja-y)"
      ],
      "metadata": {
        "colab": {
          "base_uri": "https://localhost:8080/"
        },
        "id": "0q7hb8KUgkBy",
        "outputId": "facaaddb-a8de-44f2-81a6-180c81867da8"
      },
      "execution_count": null,
      "outputs": [
        {
          "output_type": "execute_result",
          "data": {
            "text/plain": [
              "np.float64(789.3554695498539)"
            ]
          },
          "metadata": {},
          "execution_count": 52
        }
      ]
    },
    {
      "cell_type": "code",
      "source": [
        "plt.plot(diametro_toranja, peso_toranja)\n",
        "plt.plot(X2,y2)\n",
        "plt.legend(['Peso toranja', 'Previsão crescimento toranja'])"
      ],
      "metadata": {
        "colab": {
          "base_uri": "https://localhost:8080/",
          "height": 448
        },
        "id": "sGQ2gk0ufwZS",
        "outputId": "4e298ca7-8d44-4927-a3b6-dfde86f093d3"
      },
      "execution_count": null,
      "outputs": [
        {
          "output_type": "execute_result",
          "data": {
            "text/plain": [
              "<matplotlib.legend.Legend at 0x797f2f13d250>"
            ]
          },
          "metadata": {},
          "execution_count": 53
        },
        {
          "output_type": "display_data",
          "data": {
            "text/plain": [
              "<Figure size 640x480 with 1 Axes>"
            ],
            "image/png": "[encoded data removed]"
          },
          "metadata": {}
        }
      ]
    },
    {
      "cell_type": "markdown",
      "source": [
        "# Exercícios Seção 04 - Números Aleatórios"
      ],
      "metadata": {
        "id": "-CyqYIL3Ra5M"
      }
    },
    {
      "cell_type": "markdown",
      "source": [
        "Chegou a hora de você testar os conhecimentos desenvolvidos durante a aula. Continuando com o projeto das laranjas/toranjas, agora você deve calcular o coeficiente angular utilizando a geração de números aleatórios. Assuma que já conhece b e que este é igual a 17."
      ],
      "metadata": {
        "id": "leZSaWs_Rs_Y"
      }
    },
    {
      "cell_type": "code",
      "source": [
        "b =17\n",
        "\n",
        "np.random.seed(84)\n",
        "coef_angulares = np.random.uniform(low=0.0,high=30.0,size=100)\n",
        "norma2 = np.array([])\n",
        "for i in range(100):\n",
        "    norma2 = np.append(norma2, np.linalg.norm(Y1 -(coef_angulares[i]*X1+b)))"
      ],
      "metadata": {
        "id": "lcpF85lBRz6r"
      },
      "execution_count": null,
      "outputs": []
    },
    {
      "cell_type": "code",
      "source": [
        "dados1 = np.column_stack([norma2,coef_angulares])"
      ],
      "metadata": {
        "id": "-Q-KGHwmTAIp"
      },
      "execution_count": null,
      "outputs": []
    },
    {
      "cell_type": "code",
      "source": [
        "dados1.shape"
      ],
      "metadata": {
        "colab": {
          "base_uri": "https://localhost:8080/"
        },
        "id": "IiHasWc3TNjE",
        "outputId": "db512ad1-013f-4480-a69c-e58e30b4a310"
      },
      "execution_count": null,
      "outputs": [
        {
          "output_type": "execute_result",
          "data": {
            "text/plain": [
              "(100, 2)"
            ]
          },
          "metadata": {},
          "execution_count": 83
        }
      ]
    },
    {
      "cell_type": "code",
      "source": [
        "np.savetxt(\"dados.csv\",dados1,delimiter=',')"
      ],
      "metadata": {
        "id": "IdKVwQ7BTTTG"
      },
      "execution_count": null,
      "outputs": []
    },
    {
      "cell_type": "code",
      "source": [
        "np.random.seed(84)\n",
        "coef_angulares = np.random.uniform(low=0.10,high=0.90,size=100)\n",
        "norma2 = np.array([])\n",
        "for i in range(100):\n",
        "    norma2 = np.append(norma2, np.linalg.norm(Y2-(coef_angulares[i]*X2+b1)))"
      ],
      "metadata": {
        "id": "vxjqqUx7T5CY"
      },
      "execution_count": null,
      "outputs": []
    },
    {
      "cell_type": "code",
      "source": [
        "dados2 = np.column_stack([norma2,coef_angulares])"
      ],
      "metadata": {
        "id": "YQ7j5rM_T_Im"
      },
      "execution_count": null,
      "outputs": []
    },
    {
      "cell_type": "code",
      "source": [
        "dados2.shape"
      ],
      "metadata": {
        "colab": {
          "base_uri": "https://localhost:8080/"
        },
        "id": "X-rQjvVlUWF5",
        "outputId": "389659ab-f793-4d67-a046-5097a93de888"
      },
      "execution_count": null,
      "outputs": [
        {
          "output_type": "execute_result",
          "data": {
            "text/plain": [
              "(100, 2)"
            ]
          },
          "metadata": {},
          "execution_count": 80
        }
      ]
    },
    {
      "cell_type": "code",
      "source": [
        "np.savetxt(\"dados.csv\",dados2,delimiter=',')"
      ],
      "metadata": {
        "id": "ySsEZl3XUY4I"
      },
      "execution_count": null,
      "outputs": []
    }
  ]
}